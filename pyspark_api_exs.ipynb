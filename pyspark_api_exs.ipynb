{
 "cells": [
  {
   "cell_type": "code",
   "execution_count": 1,
   "id": "41e938d3-e626-4180-a781-7d33c9dccfd3",
   "metadata": {},
   "outputs": [],
   "source": [
    "# first things:\n",
    "# imports and session intitialization\n",
    "import pyspark\n",
    "from pyspark.sql import functions as F\n",
    "import pandas\n",
    "from pydataset import data"
   ]
  },
  {
   "cell_type": "code",
   "execution_count": 2,
   "id": "4a11f0e2-b5c3-4346-95ce-389f567a24e1",
   "metadata": {},
   "outputs": [
    {
     "name": "stderr",
     "output_type": "stream",
     "text": [
      "Setting default log level to \"WARN\".\n",
      "To adjust logging level use sc.setLogLevel(newLevel). For SparkR, use setLogLevel(newLevel).\n",
      "23/05/19 11:36:33 WARN NativeCodeLoader: Unable to load native-hadoop library for your platform... using builtin-java classes where applicable\n",
      "23/05/19 11:36:34 WARN Utils: Service 'SparkUI' could not bind on port 4040. Attempting port 4041.\n",
      "23/05/19 11:36:34 WARN Utils: Service 'SparkUI' could not bind on port 4041. Attempting port 4042.\n"
     ]
    }
   ],
   "source": [
    "#  initialize a session\n",
    "spark = pyspark.sql.SparkSession.builder.getOrCreate()"
   ]
  },
  {
   "cell_type": "markdown",
   "id": "70d40b7d-f494-4328-b2c9-3c0eb9ae3016",
   "metadata": {
    "tags": []
   },
   "source": [
    "### Create a spark data frame that contains your favorite programming languages."
   ]
  },
  {
   "cell_type": "code",
   "execution_count": 4,
   "id": "cc158475-ed89-495c-8b26-0e4ca69567e0",
   "metadata": {},
   "outputs": [],
   "source": [
    "langs = pandas.DataFrame(\n",
    "{\n",
    "    'languages': [\n",
    "        'python',\n",
    "        'julia',\n",
    "        'c',\n",
    "        'r',\n",
    "        'sql',\n",
    "        'java',\n",
    "        'scala']\n",
    "}\n",
    ")"
   ]
  },
  {
   "cell_type": "code",
   "execution_count": 5,
   "id": "9b035636-04c2-4a7e-b428-17e9a87484b9",
   "metadata": {},
   "outputs": [
    {
     "data": {
      "text/html": [
       "<div>\n",
       "<style scoped>\n",
       "    .dataframe tbody tr th:only-of-type {\n",
       "        vertical-align: middle;\n",
       "    }\n",
       "\n",
       "    .dataframe tbody tr th {\n",
       "        vertical-align: top;\n",
       "    }\n",
       "\n",
       "    .dataframe thead th {\n",
       "        text-align: right;\n",
       "    }\n",
       "</style>\n",
       "<table border=\"1\" class=\"dataframe\">\n",
       "  <thead>\n",
       "    <tr style=\"text-align: right;\">\n",
       "      <th></th>\n",
       "      <th>languages</th>\n",
       "    </tr>\n",
       "  </thead>\n",
       "  <tbody>\n",
       "    <tr>\n",
       "      <th>0</th>\n",
       "      <td>python</td>\n",
       "    </tr>\n",
       "    <tr>\n",
       "      <th>1</th>\n",
       "      <td>julia</td>\n",
       "    </tr>\n",
       "    <tr>\n",
       "      <th>2</th>\n",
       "      <td>c</td>\n",
       "    </tr>\n",
       "    <tr>\n",
       "      <th>3</th>\n",
       "      <td>r</td>\n",
       "    </tr>\n",
       "    <tr>\n",
       "      <th>4</th>\n",
       "      <td>sql</td>\n",
       "    </tr>\n",
       "    <tr>\n",
       "      <th>5</th>\n",
       "      <td>java</td>\n",
       "    </tr>\n",
       "    <tr>\n",
       "      <th>6</th>\n",
       "      <td>scala</td>\n",
       "    </tr>\n",
       "  </tbody>\n",
       "</table>\n",
       "</div>"
      ],
      "text/plain": [
       "  languages\n",
       "0    python\n",
       "1     julia\n",
       "2         c\n",
       "3         r\n",
       "4       sql\n",
       "5      java\n",
       "6     scala"
      ]
     },
     "execution_count": 5,
     "metadata": {},
     "output_type": "execute_result"
    }
   ],
   "source": [
    "langs"
   ]
  },
  {
   "cell_type": "code",
   "execution_count": 7,
   "id": "15ab5348-6e3c-426d-8ea0-e14ba3b5ba05",
   "metadata": {},
   "outputs": [],
   "source": [
    "# using the spark session, turn our tabular data into a spark df\n",
    "langs = spark.createDataFrame(langs)"
   ]
  },
  {
   "cell_type": "markdown",
   "id": "82e3785c-29ca-4bd0-8a10-e512da8deff0",
   "metadata": {},
   "source": [
    "The name of the column should be language"
   ]
  },
  {
   "cell_type": "code",
   "execution_count": 13,
   "id": "cda353ff-c460-40fe-a65c-fd0287320029",
   "metadata": {},
   "outputs": [],
   "source": [
    "langs = langs.withColumnRenamed('languages', 'language')"
   ]
  },
  {
   "cell_type": "code",
   "execution_count": 9,
   "id": "405695ae-5224-4b07-890d-fe183a61071b",
   "metadata": {},
   "outputs": [
    {
     "name": "stdout",
     "output_type": "stream",
     "text": [
      "+--------+\n",
      "|language|\n",
      "+--------+\n",
      "|  python|\n",
      "|   julia|\n",
      "|       c|\n",
      "|       r|\n",
      "|     sql|\n",
      "|    java|\n",
      "|   scala|\n",
      "+--------+\n",
      "\n"
     ]
    }
   ],
   "source": [
    "# langs.withColumn(\n",
    "# 'language', langs.languages\n",
    "# ).drop('languages').show()"
   ]
  },
  {
   "cell_type": "markdown",
   "id": "54686148-02a6-4963-a16c-16efe571109b",
   "metadata": {},
   "source": [
    "View the schema of the dataframe"
   ]
  },
  {
   "cell_type": "code",
   "execution_count": 14,
   "id": "fe044106-d5d5-4633-b656-8f8fe71348c9",
   "metadata": {},
   "outputs": [
    {
     "name": "stdout",
     "output_type": "stream",
     "text": [
      "root\n",
      " |-- language: string (nullable = true)\n",
      "\n"
     ]
    }
   ],
   "source": [
    "langs.printSchema()"
   ]
  },
  {
   "cell_type": "markdown",
   "id": "35301648-3e02-4f47-ac23-1f9e94022a34",
   "metadata": {},
   "source": [
    "Output the shape of the dataframe"
   ]
  },
  {
   "cell_type": "code",
   "execution_count": 17,
   "id": "22718446-7009-498a-ae2c-a07f0105ddf6",
   "metadata": {},
   "outputs": [
    {
     "name": "stdout",
     "output_type": "stream",
     "text": [
      "7 rows, 1 columns\n"
     ]
    }
   ],
   "source": [
    "print(f'{langs.count()} rows, {len(langs.columns)} columns')"
   ]
  },
  {
   "cell_type": "markdown",
   "id": "cfee516e-1214-4f60-8c03-653123e2f714",
   "metadata": {},
   "source": [
    "Show the first 5 records in the dataframe"
   ]
  },
  {
   "cell_type": "code",
   "execution_count": 19,
   "id": "d8e2fa22-87ca-4f7a-ad4f-e222eef91544",
   "metadata": {},
   "outputs": [
    {
     "name": "stdout",
     "output_type": "stream",
     "text": [
      "+--------+\n",
      "|language|\n",
      "+--------+\n",
      "|  python|\n",
      "|   julia|\n",
      "|       c|\n",
      "|       r|\n",
      "|     sql|\n",
      "+--------+\n",
      "only showing top 5 rows\n",
      "\n"
     ]
    }
   ],
   "source": [
    "langs.show(5)"
   ]
  },
  {
   "cell_type": "markdown",
   "id": "b8d0be4a-152b-4b44-984c-487b76c517fb",
   "metadata": {},
   "source": [
    "### Load the mpg dataset as a spark dataframe."
   ]
  },
  {
   "cell_type": "code",
   "execution_count": 20,
   "id": "a41e5896-bbff-47cd-9f1c-a74289912dd0",
   "metadata": {},
   "outputs": [],
   "source": [
    "mpg = spark.createDataFrame(data('mpg'))"
   ]
  },
  {
   "cell_type": "markdown",
   "id": "b55eed51-4211-4383-87c7-03d6bc54a8d4",
   "metadata": {},
   "source": [
    "Create 1 column of output that contains a message like the one below:"
   ]
  },
  {
   "cell_type": "markdown",
   "id": "b87e7ff0-38aa-44c9-84ba-3e817cf865d4",
   "metadata": {},
   "source": [
    "The 1999 audi a4 has a 4 cylinder engine."
   ]
  },
  {
   "cell_type": "code",
   "execution_count": 27,
   "id": "683bb2e7-045e-4411-9240-9ef3eb9920e8",
   "metadata": {},
   "outputs": [
    {
     "name": "stdout",
     "output_type": "stream",
     "text": [
      "+----------------------------------------+\n",
      "|statement                               |\n",
      "+----------------------------------------+\n",
      "|The 1999 audi a4 has a 4 cylinder engine|\n",
      "|The 1999 audi a4 has a 4 cylinder engine|\n",
      "|The 2008 audi a4 has a 4 cylinder engine|\n",
      "|The 2008 audi a4 has a 4 cylinder engine|\n",
      "|The 1999 audi a4 has a 6 cylinder engine|\n",
      "+----------------------------------------+\n",
      "only showing top 5 rows\n",
      "\n"
     ]
    }
   ],
   "source": [
    "mpg.select(\n",
    "    (F.concat(\n",
    "        F.lit('The '),\n",
    "        mpg.year,\n",
    "        F.lit(' '),\n",
    "        mpg.manufacturer,\n",
    "        F.lit(' '),\n",
    "        mpg.model,\n",
    "        F.lit(' has a '),\n",
    "        mpg.cyl,\n",
    "        F.lit(' cylinder engine')\n",
    "    )).alias('statement')).show(5, truncate=False)"
   ]
  },
  {
   "cell_type": "code",
   "execution_count": 30,
   "id": "3875be02-4df7-4f4b-8c6d-e266e4fe558f",
   "metadata": {},
   "outputs": [
    {
     "name": "stdout",
     "output_type": "stream",
     "text": [
      "-RECORD 0------------------------------------------------\n",
      " manufacturer | audi                                     \n",
      " model        | a4                                       \n",
      " displ        | 1.8                                      \n",
      " year         | 1999                                     \n",
      " cyl          | 4                                        \n",
      " trans        | auto(l5)                                 \n",
      " drv          | f                                        \n",
      " cty          | 18                                       \n",
      " hwy          | 29                                       \n",
      " fl           | p                                        \n",
      " class        | compact                                  \n",
      " statement    | The 1999 audi a4 has a 4 cylinder engine \n",
      "only showing top 1 row\n",
      "\n"
     ]
    }
   ],
   "source": [
    "mpg.withColumn(\n",
    "    'statement',\n",
    "    F.concat(\n",
    "        F.lit('The '),\n",
    "        mpg.year,\n",
    "        F.lit(' '),\n",
    "        mpg.manufacturer,\n",
    "        F.lit(' '),\n",
    "        mpg.model,\n",
    "        F.lit(' has a '),\n",
    "        mpg.cyl,\n",
    "        F.lit(' cylinder engine')\n",
    "    )\n",
    ").show(1, truncate=False, vertical=True)"
   ]
  },
  {
   "cell_type": "markdown",
   "id": "c210f770-ef17-49fb-981c-b42ea5ddf324",
   "metadata": {},
   "source": [
    "For each vehicle."
   ]
  },
  {
   "cell_type": "markdown",
   "id": "8154bc76-b2aa-4f2a-812c-870b20356bb7",
   "metadata": {},
   "source": [
    "Transform the trans column so that it only contains either manual or auto."
   ]
  },
  {
   "cell_type": "code",
   "execution_count": 32,
   "id": "ebd08a5f-8865-4ea2-829b-a58745d638b6",
   "metadata": {},
   "outputs": [
    {
     "name": "stdout",
     "output_type": "stream",
     "text": [
      "+----------+\n",
      "|trans_type|\n",
      "+----------+\n",
      "|      auto|\n",
      "|    manual|\n",
      "|    manual|\n",
      "|      auto|\n",
      "|      auto|\n",
      "|    manual|\n",
      "|      auto|\n",
      "|    manual|\n",
      "|      auto|\n",
      "|    manual|\n",
      "|      auto|\n",
      "|      auto|\n",
      "|    manual|\n",
      "|      auto|\n",
      "|    manual|\n",
      "|      auto|\n",
      "|      auto|\n",
      "|      auto|\n",
      "|      auto|\n",
      "|      auto|\n",
      "+----------+\n",
      "only showing top 20 rows\n",
      "\n"
     ]
    }
   ],
   "source": [
    "mpg.select(\n",
    "    (\n",
    "        F.when(\n",
    "        mpg.trans.contains('auto'), 'auto'\n",
    "    ).otherwise('manual')\n",
    "    ).alias('trans_type')\n",
    ").show()"
   ]
  },
  {
   "cell_type": "markdown",
   "id": "3776cbcf-3c6d-4d98-b2f1-aa2ed73cbc90",
   "metadata": {},
   "source": [
    "### Load the tips dataset as a spark dataframe."
   ]
  },
  {
   "cell_type": "code",
   "execution_count": 33,
   "id": "e6208483-2f5b-4470-af85-2fc8f2e3f6a4",
   "metadata": {},
   "outputs": [],
   "source": [
    "# make the variable tips,\n",
    "# use the spark session to create a tips dataframe\n",
    "# tips dataframe comes from pydataset tips function\n",
    "tips = spark.createDataFrame(data('tips'))"
   ]
  },
  {
   "cell_type": "markdown",
   "id": "b623e833-d71d-4ebb-b443-e414dd175ed4",
   "metadata": {},
   "source": [
    "What percentage of observations are smokers?"
   ]
  },
  {
   "cell_type": "code",
   "execution_count": 35,
   "id": "44007610-07d1-4a47-95da-6b5ed5a9629d",
   "metadata": {},
   "outputs": [
    {
     "data": {
      "text/plain": [
       "['total_bill', 'tip', 'sex', 'smoker', 'day', 'time', 'size']"
      ]
     },
     "execution_count": 35,
     "metadata": {},
     "output_type": "execute_result"
    }
   ],
   "source": [
    "tips.columns"
   ]
  },
  {
   "cell_type": "code",
   "execution_count": 36,
   "id": "35eca75e-b4cd-4883-bb51-6887af051580",
   "metadata": {},
   "outputs": [
    {
     "name": "stdout",
     "output_type": "stream",
     "text": [
      "+----------+----+------+------+---+------+----+\n",
      "|total_bill| tip|   sex|smoker|day|  time|size|\n",
      "+----------+----+------+------+---+------+----+\n",
      "|     16.99|1.01|Female|    No|Sun|Dinner|   2|\n",
      "|     10.34|1.66|  Male|    No|Sun|Dinner|   3|\n",
      "|     21.01| 3.5|  Male|    No|Sun|Dinner|   3|\n",
      "|     23.68|3.31|  Male|    No|Sun|Dinner|   2|\n",
      "|     24.59|3.61|Female|    No|Sun|Dinner|   4|\n",
      "+----------+----+------+------+---+------+----+\n",
      "only showing top 5 rows\n",
      "\n"
     ]
    }
   ],
   "source": [
    "tips.show(5)"
   ]
  },
  {
   "cell_type": "code",
   "execution_count": 38,
   "id": "fe2fb39b-a8b1-4600-83b4-fc28786f349a",
   "metadata": {},
   "outputs": [
    {
     "data": {
      "text/plain": [
       "38.114754098360656"
      ]
     },
     "execution_count": 38,
     "metadata": {},
     "output_type": "execute_result"
    }
   ],
   "source": [
    "(tips.filter(tips.smoker == 'Yes').count() / tips.count()) * 100"
   ]
  },
  {
   "cell_type": "code",
   "execution_count": 44,
   "id": "ce74ca3d-3547-49d5-a8a0-d6456a2c4a68",
   "metadata": {},
   "outputs": [
    {
     "name": "stdout",
     "output_type": "stream",
     "text": [
      "+------+----+\n",
      "|smoker|perc|\n",
      "+------+----+\n",
      "|    No|0.62|\n",
      "|   Yes|0.38|\n",
      "+------+----+\n",
      "\n"
     ]
    }
   ],
   "source": [
    "tips.groupby(tips.smoker).agg(\n",
    "    F.round((F.count('time') / tips.count()),2).alias('perc')\n",
    ").show()"
   ]
  },
  {
   "cell_type": "markdown",
   "id": "f8b04fd2-131c-417c-bc10-191616b4a593",
   "metadata": {},
   "source": [
    "Create a column that contains the tip percentage"
   ]
  },
  {
   "cell_type": "code",
   "execution_count": 46,
   "id": "78345946-211b-4f0b-ae1e-52b38c89764c",
   "metadata": {},
   "outputs": [
    {
     "name": "stdout",
     "output_type": "stream",
     "text": [
      "+----+----------+--------+\n",
      "| tip|total_bill|tip_perc|\n",
      "+----+----------+--------+\n",
      "|1.01|     16.99|    5.94|\n",
      "|1.66|     10.34|   16.05|\n",
      "| 3.5|     21.01|   16.66|\n",
      "|3.31|     23.68|   13.98|\n",
      "|3.61|     24.59|   14.68|\n",
      "+----+----------+--------+\n",
      "only showing top 5 rows\n",
      "\n"
     ]
    }
   ],
   "source": [
    "tips.withColumn(\n",
    "    'tip_perc',\n",
    "    F.round((tips.tip / tips.total_bill) * 100, 2)\n",
    ").select('tip','total_bill','tip_perc').show(5)"
   ]
  },
  {
   "cell_type": "markdown",
   "id": "c9b63eec-0010-4b7c-a6d8-3f3a952605f3",
   "metadata": {},
   "source": [
    "Calculate the average tip percentage for each combination of sex and smoker."
   ]
  },
  {
   "cell_type": "code",
   "execution_count": 51,
   "id": "061cbbf6-ad61-4627-907e-464d2cd801ac",
   "metadata": {},
   "outputs": [
    {
     "name": "stdout",
     "output_type": "stream",
     "text": [
      "+------+------+--------+\n",
      "|   sex|smoker|avg_perc|\n",
      "+------+------+--------+\n",
      "|  Male|    No|   16.07|\n",
      "|Female|    No|   15.69|\n",
      "|  Male|   Yes|   15.28|\n",
      "|Female|   Yes|   18.21|\n",
      "+------+------+--------+\n",
      "\n"
     ]
    }
   ],
   "source": [
    "tips.withColumn(\n",
    "    'tip_perc',\n",
    "    F.round((tips.tip / tips.total_bill) * 100, 2)\n",
    ").groupby('sex','smoker').agg(\n",
    "    F.round(F.mean('tip_perc'), 2).alias('avg_perc')).show()"
   ]
  },
  {
   "cell_type": "code",
   "execution_count": null,
   "id": "62636645-d2c6-442f-a98a-f5fd6ee0d1a0",
   "metadata": {},
   "outputs": [],
   "source": [
    "tips = tips.withColumn(\n",
    "    'tip_perc',\n",
    "    F.round((tips.tip / tips.total_bill) * 100, 2)\n",
    ")"
   ]
  },
  {
   "cell_type": "code",
   "execution_count": 53,
   "id": "cbc9686d-8b9c-4d60-af78-d5796110feb0",
   "metadata": {},
   "outputs": [
    {
     "name": "stderr",
     "output_type": "stream",
     "text": [
      "[Stage 104:>                                                      (0 + 12) / 12]\r"
     ]
    },
    {
     "name": "stdout",
     "output_type": "stream",
     "text": [
      "+------+-----+-----+\n",
      "|   sex|   No|  Yes|\n",
      "+------+-----+-----+\n",
      "|Female|15.69|18.21|\n",
      "|  Male|16.07|15.28|\n",
      "+------+-----+-----+\n",
      "\n"
     ]
    },
    {
     "name": "stderr",
     "output_type": "stream",
     "text": [
      "                                                                                \r"
     ]
    }
   ],
   "source": [
    "tips.withColumn(\n",
    "    'tip_perc',\n",
    "    F.round((tips.tip / tips.total_bill) * 100, 2)\n",
    ").groupby('sex').pivot('smoker').agg(\n",
    "    F.round(F.avg('tip_perc'), 2).alias('avg_perc')).show()"
   ]
  },
  {
   "cell_type": "markdown",
   "id": "0ca548bc-b0c2-4867-9db7-66a567530fdb",
   "metadata": {
    "tags": []
   },
   "source": [
    "### Use the seattle weather dataset referenced in the lesson to answer the questions below."
   ]
  },
  {
   "cell_type": "code",
   "execution_count": 54,
   "id": "e83fb5d6-db8f-44de-acea-0c2e2ebacec2",
   "metadata": {},
   "outputs": [],
   "source": [
    "from vega_datasets import data\n",
    "weather = data.seattle_weather()\n",
    "weather = spark.createDataFrame(weather)"
   ]
  },
  {
   "cell_type": "code",
   "execution_count": 58,
   "id": "9f3aeba9-48cb-47fc-8fb9-39cab469bcbc",
   "metadata": {},
   "outputs": [
    {
     "name": "stdout",
     "output_type": "stream",
     "text": [
      "-RECORD 0----------------------------\n",
      " date          | 2012-01-01 00:00:00 \n",
      " precipitation | 0.0                 \n",
      " temp_max      | 12.8                \n",
      " temp_min      | 5.0                 \n",
      " wind          | 4.7                 \n",
      " weather       | drizzle             \n",
      "-RECORD 1----------------------------\n",
      " date          | 2012-01-02 00:00:00 \n",
      " precipitation | 10.9                \n",
      " temp_max      | 10.6                \n",
      " temp_min      | 2.8                 \n",
      " wind          | 4.5                 \n",
      " weather       | rain                \n",
      "only showing top 2 rows\n",
      "\n"
     ]
    }
   ],
   "source": [
    "# head equivalent:\n",
    "weather.show(2, vertical=True)"
   ]
  },
  {
   "cell_type": "code",
   "execution_count": 55,
   "id": "af23218a-1449-4ea8-87c7-7a01a207d05e",
   "metadata": {},
   "outputs": [],
   "source": [
    "# c to f: (x°C × 9/5) + 32 = 32°F"
   ]
  },
  {
   "cell_type": "markdown",
   "id": "6c5e6712-df9d-4a5c-8507-583c0664858f",
   "metadata": {
    "tags": []
   },
   "source": [
    "Convert the temperatures to fahrenheit."
   ]
  },
  {
   "cell_type": "code",
   "execution_count": 64,
   "id": "078451e4-9f2a-4a63-b4be-346fdabf87f2",
   "metadata": {},
   "outputs": [],
   "source": [
    "weather = weather.withColumn('temp_min', \n",
    "                   weather.temp_min * (9/5) + 32\n",
    "                  ).withColumn(\n",
    "    'temp_max', \n",
    "    weather.temp_max * (9/5) + 32\n",
    "                  )"
   ]
  },
  {
   "cell_type": "code",
   "execution_count": 65,
   "id": "f90ab53a-00a3-4d44-b13a-8497acc87ad7",
   "metadata": {},
   "outputs": [
    {
     "name": "stdout",
     "output_type": "stream",
     "text": [
      "+--------+------------------+\n",
      "|temp_min|          temp_max|\n",
      "+--------+------------------+\n",
      "|    41.0|55.040000000000006|\n",
      "|   37.04|             51.08|\n",
      "|   44.96|             53.06|\n",
      "|   42.08|             53.96|\n",
      "|   37.04|48.019999999999996|\n",
      "+--------+------------------+\n",
      "only showing top 5 rows\n",
      "\n"
     ]
    }
   ],
   "source": [
    "weather.select('temp_min', 'temp_max').show(5)"
   ]
  },
  {
   "cell_type": "markdown",
   "id": "9896e328-81b9-4346-8d2d-5f78ea9861f1",
   "metadata": {},
   "source": [
    "Which month has the most rain, on average?"
   ]
  },
  {
   "cell_type": "code",
   "execution_count": 66,
   "id": "27cb6b70-082f-4ae7-b653-783ed681e342",
   "metadata": {},
   "outputs": [
    {
     "name": "stderr",
     "output_type": "stream",
     "text": [
      "[Stage 118:>                                                      (0 + 12) / 12]\r"
     ]
    },
    {
     "name": "stdout",
     "output_type": "stream",
     "text": [
      "+-------+------------------+\n",
      "|weather|sum(precipitation)|\n",
      "+-------+------------------+\n",
      "|drizzle|               1.0|\n",
      "|   rain|1321.8000000000004|\n",
      "|    sun|239.39999999999998|\n",
      "|   snow|             208.1|\n",
      "|    fog|            2655.7|\n",
      "+-------+------------------+\n",
      "\n"
     ]
    },
    {
     "name": "stderr",
     "output_type": "stream",
     "text": [
      "                                                                                \r"
     ]
    }
   ],
   "source": [
    "# weather.groupby('weather').sum('precipitation').show()"
   ]
  },
  {
   "cell_type": "code",
   "execution_count": 76,
   "id": "5c4a0bd9-a013-4249-8482-c15d1c192e56",
   "metadata": {},
   "outputs": [
    {
     "name": "stdout",
     "output_type": "stream",
     "text": [
      "+-----+-------------------+------------------+\n",
      "|month|        mean_precip|      total_precip|\n",
      "+-----+-------------------+------------------+\n",
      "|    9|0.22499999999999998|0.8999999999999999|\n",
      "|    7| 1.8785714285714286|              26.3|\n",
      "|    8|  6.433333333333334|              38.6|\n",
      "|    5| 3.2624999999999997|52.199999999999996|\n",
      "|    4|  3.429999999999999| 68.59999999999998|\n",
      "|    6|  3.952631578947368|              75.1|\n",
      "|   12| 5.0260869565217385|115.59999999999998|\n",
      "|    2| 3.1725000000000003|             126.9|\n",
      "|    3|  4.921621621621622|             182.1|\n",
      "|   10|              9.675|             193.5|\n",
      "|   11|               8.42|             210.5|\n",
      "|    1|  6.614285714285714|231.49999999999997|\n",
      "+-----+-------------------+------------------+\n",
      "\n"
     ]
    }
   ],
   "source": [
    "weather.filter(weather.weather == 'rain'\n",
    ").\\\n",
    "withColumn(\n",
    "    'month',\n",
    "    F.month(weather.date)\n",
    ").groupby('month').agg(\n",
    "    (F.mean('precipitation')).alias('mean_precip'),\n",
    "    (F.sum('precipitation')).alias('total_precip')\n",
    "    ).sort('total_precip').show()"
   ]
  },
  {
   "cell_type": "markdown",
   "id": "5f6f6a42-51fa-4abf-92b2-43fa757b027e",
   "metadata": {},
   "source": [
    "Which year was the windiest?"
   ]
  },
  {
   "cell_type": "code",
   "execution_count": 81,
   "id": "18c09183-9c95-4026-9be8-740c892c4a65",
   "metadata": {},
   "outputs": [
    {
     "data": {
      "text/plain": [
       "Row(year=2012, mean_wind=3.4008196721311483, total_wind=1244.7000000000003)"
      ]
     },
     "execution_count": 81,
     "metadata": {},
     "output_type": "execute_result"
    }
   ],
   "source": [
    "weather.withColumn(\n",
    "    'year',\n",
    "    F.year(weather.date)\n",
    ").groupby(\n",
    "'year'\n",
    ").agg(\n",
    " (F.mean('wind')).alias('mean_wind'),\n",
    "    (F.sum('wind')).alias('total_wind')   \n",
    ").sort(F.col('total_wind').desc()).first()"
   ]
  },
  {
   "cell_type": "markdown",
   "id": "09cb90ed-206c-47ef-aa8b-a4e57b349b2f",
   "metadata": {},
   "source": [
    "What is the most frequent type of weather in January?"
   ]
  },
  {
   "cell_type": "code",
   "execution_count": 84,
   "id": "9017d4cd-52be-4220-b21e-339055115094",
   "metadata": {},
   "outputs": [
    {
     "name": "stdout",
     "output_type": "stream",
     "text": [
      "+-------+-----+\n",
      "|weather|count|\n",
      "+-------+-----+\n",
      "|    fog|   38|\n",
      "|   rain|   35|\n",
      "|    sun|   33|\n",
      "|drizzle|   10|\n",
      "|   snow|    8|\n",
      "+-------+-----+\n",
      "\n"
     ]
    }
   ],
   "source": [
    "weather.filter(\n",
    "    F.month(weather.date) == 1\n",
    ").groupby('weather').count().sort(F.col('count').desc()).show()"
   ]
  },
  {
   "cell_type": "markdown",
   "id": "881d6477-8bed-486e-9d66-9b9e2e88a5ed",
   "metadata": {},
   "source": [
    "What is the average high and low temperature on sunny days in July in 2013 and 2014?"
   ]
  },
  {
   "cell_type": "code",
   "execution_count": null,
   "id": "dc92afae-5b45-4f10-b1e3-6e98ca925d99",
   "metadata": {},
   "outputs": [],
   "source": [
    "weather.select(\n",
    "    F.when(weather.date.contains('2012'))"
   ]
  },
  {
   "cell_type": "code",
   "execution_count": 96,
   "id": "469c8968-aaa3-4043-9566-56e5bd3fd08f",
   "metadata": {},
   "outputs": [
    {
     "name": "stderr",
     "output_type": "stream",
     "text": [
      "[Stage 173:>                                                      (0 + 12) / 12]\r"
     ]
    },
    {
     "name": "stdout",
     "output_type": "stream",
     "text": [
      "+--------+-------+\n",
      "|avg_high|avg_low|\n",
      "+--------+-------+\n",
      "|   80.29|  57.53|\n",
      "+--------+-------+\n",
      "\n"
     ]
    },
    {
     "name": "stderr",
     "output_type": "stream",
     "text": [
      "                                                                                \r"
     ]
    }
   ],
   "source": [
    "# steps ahead:\n",
    "# filter for: july (month)\n",
    "# year (2013, 2014)\n",
    "# weather: sunny\n",
    "# aggregate on high and low temp averages\n",
    "weather.filter(\n",
    "    (F.month(weather.date) == 7) &\n",
    "    (F.year(weather.date).isin(['2013','2014'])) &\n",
    "    (weather.weather == 'sun')\n",
    ").agg(\n",
    "    F.round(F.mean('temp_max'),2).alias('avg_high'), \n",
    "      F.round(F.mean('temp_min'), 2).alias('avg_low')\n",
    ").show()"
   ]
  },
  {
   "cell_type": "markdown",
   "id": "450789e0-d618-4387-aac8-39386d2024d0",
   "metadata": {},
   "source": [
    "What percentage of days were rainy in q3 of 2015?"
   ]
  },
  {
   "cell_type": "code",
   "execution_count": 102,
   "id": "231efc04-87bd-4e0f-8ffa-b65075c99860",
   "metadata": {},
   "outputs": [
    {
     "name": "stdout",
     "output_type": "stream",
     "text": [
      "+---------+\n",
      "|perc_rain|\n",
      "+---------+\n",
      "|     2.17|\n",
      "+---------+\n",
      "\n"
     ]
    }
   ],
   "source": [
    "# filter for q3:\n",
    "# filter for year\n",
    "# calculate percentage of rainy days\n",
    "weather.filter(\n",
    "    F.quarter(weather.date) == 3).filter(\n",
    "    F.year(weather.date) == 2015\n",
    ").select(\n",
    "    (F.when(weather.weather == 'rain', 1).otherwise(0)).alias('rain')\n",
    ").agg((F.round(F.mean('rain') * 100, 2)).alias('perc_rain')).show()"
   ]
  },
  {
   "cell_type": "markdown",
   "id": "9074af4b-7a8a-4c34-bb77-f8d1e21698dc",
   "metadata": {},
   "source": [
    "For each year, find what percentage of days it rained (had non-zero precipitation)."
   ]
  },
  {
   "cell_type": "code",
   "execution_count": 109,
   "id": "351b9cc7-eee1-4c68-8856-36e56b89e7c9",
   "metadata": {},
   "outputs": [
    {
     "name": "stderr",
     "output_type": "stream",
     "text": [
      "[Stage 200:>                                                      (0 + 12) / 12]\r"
     ]
    },
    {
     "name": "stdout",
     "output_type": "stream",
     "text": [
      "+----+--------------+\n",
      "|year|percent_precip|\n",
      "+----+--------------+\n",
      "|2012|         48.36|\n",
      "|2013|         41.64|\n",
      "|2014|          41.1|\n",
      "|2015|         39.45|\n",
      "+----+--------------+\n",
      "\n"
     ]
    },
    {
     "name": "stderr",
     "output_type": "stream",
     "text": [
      "                                                                                \r"
     ]
    }
   ],
   "source": [
    "# nonzero precipitation\n",
    "weather.withColumn(\n",
    "    'year',\n",
    "    F.year(weather.date)).withColumn(\n",
    "    'has_rained',\n",
    "    F.expr('precipitation > 0').cast('int')\n",
    ").groupby('year').agg(\n",
    "    F.round(F.avg('has_rained') * 100, 2).alias('percent_precip')\n",
    ").show()\n",
    "    "
   ]
  },
  {
   "cell_type": "code",
   "execution_count": null,
   "id": "9a756452-6d87-498b-8a61-ea3085d3cf24",
   "metadata": {},
   "outputs": [],
   "source": []
  }
 ],
 "metadata": {
  "kernelspec": {
   "display_name": "Python 3 (ipykernel)",
   "language": "python",
   "name": "python3"
  },
  "language_info": {
   "codemirror_mode": {
    "name": "ipython",
    "version": 3
   },
   "file_extension": ".py",
   "mimetype": "text/x-python",
   "name": "python",
   "nbconvert_exporter": "python",
   "pygments_lexer": "ipython3",
   "version": "3.11.2"
  }
 },
 "nbformat": 4,
 "nbformat_minor": 5
}
