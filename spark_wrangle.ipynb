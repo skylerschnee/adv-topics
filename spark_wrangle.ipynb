{
 "cells": [
  {
   "cell_type": "markdown",
   "id": "ea3879fa",
   "metadata": {},
   "source": [
    "# Spark Data Wrangling"
   ]
  },
  {
   "cell_type": "code",
   "execution_count": 11,
   "id": "693fba94",
   "metadata": {},
   "outputs": [],
   "source": [
    "import pandas as pd\n",
    "\n",
    "from pyspark.sql import SparkSession\n",
    "from pyspark.sql.functions import * \n",
    "\n",
    "from env import user, password, host"
   ]
  },
  {
   "cell_type": "code",
   "execution_count": 12,
   "id": "08499f89",
   "metadata": {},
   "outputs": [],
   "source": [
    "def get_db_url(db):\n",
    "    '''input df and output sql connection string'''\n",
    "    return (f'mysql+pymysql://{user}:{password}@{host}/{db}')"
   ]
  },
  {
   "cell_type": "markdown",
   "id": "8f66c455",
   "metadata": {},
   "source": [
    "## Acquire"
   ]
  },
  {
   "cell_type": "code",
   "execution_count": 14,
   "id": "755438f6",
   "metadata": {},
   "outputs": [
    {
     "data": {
      "text/html": [
       "\n",
       "            <div>\n",
       "                <p><b>SparkSession - in-memory</b></p>\n",
       "                \n",
       "        <div>\n",
       "            <p><b>SparkContext</b></p>\n",
       "\n",
       "            <p><a href=\"http://madeleinesmbp2:4043\">Spark UI</a></p>\n",
       "\n",
       "            <dl>\n",
       "              <dt>Version</dt>\n",
       "                <dd><code>v3.4.0</code></dd>\n",
       "              <dt>Master</dt>\n",
       "                <dd><code>local[*]</code></dd>\n",
       "              <dt>AppName</dt>\n",
       "                <dd><code>pyspark-shell</code></dd>\n",
       "            </dl>\n",
       "        </div>\n",
       "        \n",
       "            </div>\n",
       "        "
      ],
      "text/plain": [
       "<pyspark.sql.session.SparkSession at 0x12e55be90>"
      ]
     },
     "execution_count": 14,
     "metadata": {},
     "output_type": "execute_result"
    }
   ],
   "source": [
    "#create enviroment\n",
    "spark = SparkSession.builder.getOrCreate()\n",
    "spark"
   ]
  },
  {
   "cell_type": "markdown",
   "id": "5ae2fc66",
   "metadata": {},
   "source": [
    "### load mpg data set from pydataset"
   ]
  },
  {
   "cell_type": "code",
   "execution_count": 15,
   "id": "551e9942",
   "metadata": {},
   "outputs": [],
   "source": [
    "from pydataset import data"
   ]
  },
  {
   "cell_type": "code",
   "execution_count": 16,
   "id": "c9e58c68",
   "metadata": {},
   "outputs": [
    {
     "data": {
      "text/plain": [
       "DataFrame[manufacturer: string, model: string, displ: double, year: bigint, cyl: bigint, trans: string, drv: string, cty: bigint, hwy: bigint, fl: string, class: string]"
      ]
     },
     "execution_count": 16,
     "metadata": {},
     "output_type": "execute_result"
    }
   ],
   "source": [
    "mpg = spark.createDataFrame(data('mpg'))\n",
    "mpg"
   ]
  },
  {
   "cell_type": "code",
   "execution_count": 17,
   "id": "83c87000",
   "metadata": {},
   "outputs": [
    {
     "name": "stderr",
     "output_type": "stream",
     "text": [
      "[Stage 0:>                                                          (0 + 1) / 1]\r"
     ]
    },
    {
     "name": "stdout",
     "output_type": "stream",
     "text": [
      "+------------+-----+-----+----+---+----------+---+---+---+---+-------+\n",
      "|manufacturer|model|displ|year|cyl|     trans|drv|cty|hwy| fl|  class|\n",
      "+------------+-----+-----+----+---+----------+---+---+---+---+-------+\n",
      "|        audi|   a4|  1.8|1999|  4|  auto(l5)|  f| 18| 29|  p|compact|\n",
      "|        audi|   a4|  1.8|1999|  4|manual(m5)|  f| 21| 29|  p|compact|\n",
      "|        audi|   a4|  2.0|2008|  4|manual(m6)|  f| 20| 31|  p|compact|\n",
      "|        audi|   a4|  2.0|2008|  4|  auto(av)|  f| 21| 30|  p|compact|\n",
      "|        audi|   a4|  2.8|1999|  6|  auto(l5)|  f| 16| 26|  p|compact|\n",
      "+------------+-----+-----+----+---+----------+---+---+---+---+-------+\n",
      "only showing top 5 rows\n",
      "\n"
     ]
    },
    {
     "name": "stderr",
     "output_type": "stream",
     "text": [
      "                                                                                \r"
     ]
    }
   ],
   "source": [
    "mpg.show(5)"
   ]
  },
  {
   "cell_type": "markdown",
   "id": "b6b59db6",
   "metadata": {},
   "source": [
    "### write datafame to file"
   ]
  },
  {
   "cell_type": "markdown",
   "id": "30572adc",
   "metadata": {},
   "source": [
    "- `json`: for writing to a local json file(s)\n",
    "- `csv`: for writing to a local csv file(s)\n",
    "- `parquet`: Parquet is a very popular columnar storage format for Hadoop.\n",
    "- `jdbc`: for writing to a SQL database table"
   ]
  },
  {
   "cell_type": "markdown",
   "id": "74e8bbb4",
   "metadata": {},
   "source": [
    "#### write file to json"
   ]
  },
  {
   "cell_type": "code",
   "execution_count": 18,
   "id": "d8d07a63",
   "metadata": {},
   "outputs": [
    {
     "name": "stderr",
     "output_type": "stream",
     "text": [
      "                                                                                \r"
     ]
    }
   ],
   "source": [
    "#df.write.type\n",
    "mpg.write.json('data/mpg_json', mode='overwrite', )"
   ]
  },
  {
   "cell_type": "code",
   "execution_count": 19,
   "id": "49f5d56d-4c78-40fb-9d34-0ce8d9acf86b",
   "metadata": {},
   "outputs": [],
   "source": [
    "import os"
   ]
  },
  {
   "cell_type": "markdown",
   "id": "f7b41530-8a3f-4cd6-9a26-d95df46d9605",
   "metadata": {
    "tags": []
   },
   "source": [
    "#### read json"
   ]
  },
  {
   "cell_type": "code",
   "execution_count": 21,
   "id": "5e2c4287-c769-4fbd-aa04-f214bcbb9ddc",
   "metadata": {},
   "outputs": [
    {
     "data": {
      "text/plain": [
       "['part-00001-ed6bf062-0d8d-4ce2-b08a-c7234523907a-c000.json',\n",
       " 'part-00011-ed6bf062-0d8d-4ce2-b08a-c7234523907a-c000.json',\n",
       " 'part-00009-ed6bf062-0d8d-4ce2-b08a-c7234523907a-c000.json',\n",
       " 'part-00004-ed6bf062-0d8d-4ce2-b08a-c7234523907a-c000.json',\n",
       " 'part-00006-ed6bf062-0d8d-4ce2-b08a-c7234523907a-c000.json',\n",
       " 'part-00003-ed6bf062-0d8d-4ce2-b08a-c7234523907a-c000.json',\n",
       " 'part-00002-ed6bf062-0d8d-4ce2-b08a-c7234523907a-c000.json',\n",
       " 'part-00007-ed6bf062-0d8d-4ce2-b08a-c7234523907a-c000.json',\n",
       " '_SUCCESS',\n",
       " 'part-00005-ed6bf062-0d8d-4ce2-b08a-c7234523907a-c000.json',\n",
       " 'part-00008-ed6bf062-0d8d-4ce2-b08a-c7234523907a-c000.json',\n",
       " 'part-00010-ed6bf062-0d8d-4ce2-b08a-c7234523907a-c000.json',\n",
       " 'part-00000-ed6bf062-0d8d-4ce2-b08a-c7234523907a-c000.json']"
      ]
     },
     "execution_count": 21,
     "metadata": {},
     "output_type": "execute_result"
    }
   ],
   "source": [
    "[fn for fn in os.listdir('data/mpg_json/') if not fn.startswith('.')]"
   ]
  },
  {
   "cell_type": "code",
   "execution_count": 34,
   "id": "345f04d7-1fb6-4619-b4e5-841fabdebe84",
   "metadata": {},
   "outputs": [],
   "source": [
    "first_file = [fn for fn in os.listdir('data/mpg_json/') if not fn.startswith('.')]"
   ]
  },
  {
   "cell_type": "code",
   "execution_count": 35,
   "id": "854e2653-d99a-4717-82d1-dd6132ea3790",
   "metadata": {},
   "outputs": [
    {
     "data": {
      "text/plain": [
       "57"
      ]
     },
     "execution_count": 35,
     "metadata": {},
     "output_type": "execute_result"
    }
   ],
   "source": [
    "len([fn for fn in os.listdir('data/mpg_json/') if not fn.startswith('.')][0])"
   ]
  },
  {
   "cell_type": "code",
   "execution_count": 23,
   "id": "605eda4a-0695-41e1-b2b4-e064df9ccbd5",
   "metadata": {},
   "outputs": [
    {
     "data": {
      "text/plain": [
       "'part-00001-ed6bf062-0d8d-4ce2-b08a-c7234523907a-c000.json'"
      ]
     },
     "execution_count": 23,
     "metadata": {},
     "output_type": "execute_result"
    }
   ],
   "source": [
    "first_file"
   ]
  },
  {
   "cell_type": "code",
   "execution_count": 32,
   "id": "8bb50a1d-2006-4d1d-8785-e84301d45402",
   "metadata": {},
   "outputs": [
    {
     "data": {
      "text/plain": [
       "25"
      ]
     },
     "execution_count": 32,
     "metadata": {},
     "output_type": "execute_result"
    }
   ],
   "source": [
    "spark.read.json(f'data/mpg_json/{first_file}').count()"
   ]
  },
  {
   "cell_type": "code",
   "execution_count": 28,
   "id": "c52eb44a-9d20-47b2-8dff-0cb7bf063b63",
   "metadata": {},
   "outputs": [
    {
     "data": {
      "text/plain": [
       "234"
      ]
     },
     "execution_count": 28,
     "metadata": {},
     "output_type": "execute_result"
    }
   ],
   "source": [
    "spark.read.json('data/mpg_json').count()"
   ]
  },
  {
   "cell_type": "markdown",
   "id": "bf08c75f",
   "metadata": {},
   "source": [
    "#### write dataframe to csv"
   ]
  },
  {
   "cell_type": "code",
   "execution_count": 38,
   "id": "b7b55b1e-d093-4ea5-9d96-e7039a817929",
   "metadata": {},
   "outputs": [
    {
     "name": "stderr",
     "output_type": "stream",
     "text": [
      "                                                                                \r"
     ]
    }
   ],
   "source": [
    "mpg.write.csv('data/mpg_json', mode='overwrite', header='True')"
   ]
  },
  {
   "cell_type": "code",
   "execution_count": 36,
   "id": "21463422",
   "metadata": {},
   "outputs": [
    {
     "name": "stderr",
     "output_type": "stream",
     "text": [
      "                                                                                \r"
     ]
    }
   ],
   "source": [
    "#df.write.format()\n",
    "(\n",
    " mpg.write.format('csv')\n",
    "    .mode('overwrite')\n",
    "    .option('header', 'True')\n",
    "    .save('data/mpg_csv')\n",
    ")"
   ]
  },
  {
   "cell_type": "markdown",
   "id": "6b2b6a58",
   "metadata": {},
   "source": [
    "### read files\n",
    "- spark.read.[type]"
   ]
  },
  {
   "cell_type": "markdown",
   "id": "e380e06a",
   "metadata": {
    "tags": []
   },
   "source": [
    "#### read csv"
   ]
  },
  {
   "cell_type": "code",
   "execution_count": 37,
   "id": "e36ea678",
   "metadata": {},
   "outputs": [
    {
     "data": {
      "text/plain": [
       "234"
      ]
     },
     "execution_count": 37,
     "metadata": {},
     "output_type": "execute_result"
    }
   ],
   "source": [
    "#keep written csv headers\n",
    "(\n",
    "    spark.read.format(\"csv\")\n",
    "      .option(\"header\", True)\n",
    "      .load(\"data/mpg_csv\")\n",
    ").count()"
   ]
  },
  {
   "cell_type": "markdown",
   "id": "c839b2a6",
   "metadata": {},
   "source": [
    "### load source from 311_data in sql"
   ]
  },
  {
   "cell_type": "code",
   "execution_count": 39,
   "id": "d3abd192",
   "metadata": {},
   "outputs": [],
   "source": [
    "#sql query\n",
    "url = get_db_url('311_data')\n",
    "query = 'select source_id, source_username from source'"
   ]
  },
  {
   "cell_type": "code",
   "execution_count": 40,
   "id": "017046b4",
   "metadata": {},
   "outputs": [
    {
     "data": {
      "text/html": [
       "<div>\n",
       "<style scoped>\n",
       "    .dataframe tbody tr th:only-of-type {\n",
       "        vertical-align: middle;\n",
       "    }\n",
       "\n",
       "    .dataframe tbody tr th {\n",
       "        vertical-align: top;\n",
       "    }\n",
       "\n",
       "    .dataframe thead th {\n",
       "        text-align: right;\n",
       "    }\n",
       "</style>\n",
       "<table border=\"1\" class=\"dataframe\">\n",
       "  <thead>\n",
       "    <tr style=\"text-align: right;\">\n",
       "      <th></th>\n",
       "      <th>source_id</th>\n",
       "      <th>source_username</th>\n",
       "    </tr>\n",
       "  </thead>\n",
       "  <tbody>\n",
       "    <tr>\n",
       "      <th>0</th>\n",
       "      <td>100137</td>\n",
       "      <td>Merlene Blodgett</td>\n",
       "    </tr>\n",
       "    <tr>\n",
       "      <th>1</th>\n",
       "      <td>103582</td>\n",
       "      <td>Carmen Cura</td>\n",
       "    </tr>\n",
       "    <tr>\n",
       "      <th>2</th>\n",
       "      <td>106463</td>\n",
       "      <td>Richard Sanchez</td>\n",
       "    </tr>\n",
       "    <tr>\n",
       "      <th>3</th>\n",
       "      <td>119403</td>\n",
       "      <td>Betty De Hoyos</td>\n",
       "    </tr>\n",
       "    <tr>\n",
       "      <th>4</th>\n",
       "      <td>119555</td>\n",
       "      <td>Socorro Quiara</td>\n",
       "    </tr>\n",
       "  </tbody>\n",
       "</table>\n",
       "</div>"
      ],
      "text/plain": [
       "  source_id   source_username\n",
       "0    100137  Merlene Blodgett\n",
       "1    103582       Carmen Cura\n",
       "2    106463   Richard Sanchez\n",
       "3    119403    Betty De Hoyos\n",
       "4    119555    Socorro Quiara"
      ]
     },
     "execution_count": 40,
     "metadata": {},
     "output_type": "execute_result"
    }
   ],
   "source": [
    "#make pandas df\n",
    "pandas_df = pd.read_sql(query, url)\n",
    "pandas_df.head()"
   ]
  },
  {
   "cell_type": "code",
   "execution_count": 41,
   "id": "fbf0f6ed-cb09-4d39-b2ac-8665dee8aab4",
   "metadata": {},
   "outputs": [],
   "source": [
    "sources = spark.createDataFrame(pandas_df)"
   ]
  },
  {
   "cell_type": "code",
   "execution_count": 42,
   "id": "71c1ad30-12d7-4188-8be5-1f79eb219917",
   "metadata": {},
   "outputs": [
    {
     "name": "stdout",
     "output_type": "stream",
     "text": [
      "root\n",
      " |-- source_id: string (nullable = true)\n",
      " |-- source_username: string (nullable = true)\n",
      "\n"
     ]
    }
   ],
   "source": [
    "sources.printSchema()"
   ]
  },
  {
   "cell_type": "markdown",
   "id": "5769739f",
   "metadata": {
    "tags": []
   },
   "source": [
    "### load cases from 311_data from sql"
   ]
  },
  {
   "cell_type": "code",
   "execution_count": 43,
   "id": "54618aed",
   "metadata": {},
   "outputs": [],
   "source": [
    "#sql query\n",
    "db = '311_data'\n",
    "query = 'select * from cases limit 100000'"
   ]
  },
  {
   "cell_type": "code",
   "execution_count": 44,
   "id": "b0057fe6-5716-4635-b7da-c0b146baada4",
   "metadata": {},
   "outputs": [],
   "source": [
    "pandas_df = pd.read_csv('311.csv')"
   ]
  },
  {
   "cell_type": "code",
   "execution_count": 46,
   "id": "b3fa81df-9ea9-4e13-9191-a5315f86f84a",
   "metadata": {},
   "outputs": [],
   "source": [
    "# pandas_df.head()"
   ]
  },
  {
   "cell_type": "code",
   "execution_count": null,
   "id": "77ee891f",
   "metadata": {},
   "outputs": [],
   "source": [
    "#pandas df\n",
    "# pandas_df = pd.read_sql(query, url)"
   ]
  },
  {
   "cell_type": "code",
   "execution_count": 47,
   "id": "cbb9b4e0",
   "metadata": {},
   "outputs": [
    {
     "data": {
      "text/plain": [
       "DataFrame[case_id: bigint, case_opened_date: string, case_closed_date: string, SLA_due_date: string, case_late: string, num_days_late: double, case_closed: string, dept_division: string, service_request_type: string, SLA_days: double, case_status: string, source_id: string, request_address: string, council_district: bigint]"
      ]
     },
     "execution_count": 47,
     "metadata": {},
     "output_type": "execute_result"
    }
   ],
   "source": [
    "#spark df\n",
    "df = spark.createDataFrame(pandas_df)\n",
    "df"
   ]
  },
  {
   "cell_type": "code",
   "execution_count": 48,
   "id": "47c4e583",
   "metadata": {},
   "outputs": [
    {
     "name": "stdout",
     "output_type": "stream",
     "text": [
      "-RECORD 0-----------------------------------------------------\n",
      " case_id              | 1014127332                            \n",
      " case_opened_date     | 1/1/18 0:42                           \n",
      " case_closed_date     | 1/1/18 12:29                          \n",
      " SLA_due_date         | 9/26/20 0:42                          \n",
      " case_late            | NO                                    \n",
      " num_days_late        | -998.5087616                          \n",
      " case_closed          | YES                                   \n",
      " dept_division        | Field Operations                      \n",
      " service_request_type | Stray Animal                          \n",
      " SLA_days             | 999.0                                 \n",
      " case_status          | Closed                                \n",
      " source_id            | svcCRMLS                              \n",
      " request_address      | 2315  EL PASO ST, San Antonio, 78207  \n",
      " council_district     | 5                                     \n",
      "-RECORD 1-----------------------------------------------------\n",
      " case_id              | 1014127333                            \n",
      " case_opened_date     | 1/1/18 0:46                           \n",
      " case_closed_date     | 1/3/18 8:11                           \n",
      " SLA_due_date         | 1/5/18 8:30                           \n",
      " case_late            | NO                                    \n",
      " num_days_late        | -2.012604167                          \n",
      " case_closed          | YES                                   \n",
      " dept_division        | Storm Water                           \n",
      " service_request_type | Removal Of Obstruction                \n",
      " SLA_days             | 4.322222222                           \n",
      " case_status          | Closed                                \n",
      " source_id            | svcCRMSS                              \n",
      " request_address      | 2215  GOLIAD RD, San Antonio, 78223   \n",
      " council_district     | 3                                     \n",
      "-RECORD 2-----------------------------------------------------\n",
      " case_id              | 1014127334                            \n",
      " case_opened_date     | 1/1/18 0:48                           \n",
      " case_closed_date     | 1/2/18 7:57                           \n",
      " SLA_due_date         | 1/5/18 8:30                           \n",
      " case_late            | NO                                    \n",
      " num_days_late        | -3.022337963                          \n",
      " case_closed          | YES                                   \n",
      " dept_division        | Storm Water                           \n",
      " service_request_type | Removal Of Obstruction                \n",
      " SLA_days             | 4.320729167                           \n",
      " case_status          | Closed                                \n",
      " source_id            | svcCRMSS                              \n",
      " request_address      | 102  PALFREY ST W, San Antonio, 78223 \n",
      " council_district     | 3                                     \n",
      "only showing top 3 rows\n",
      "\n"
     ]
    }
   ],
   "source": [
    "df.show(3, vertical=True, truncate=False)"
   ]
  },
  {
   "cell_type": "markdown",
   "id": "9df26f2f",
   "metadata": {},
   "source": [
    "## Prepare"
   ]
  },
  {
   "cell_type": "markdown",
   "id": "44c3f40e",
   "metadata": {},
   "source": [
    "- rename columns\n",
    "- correct datatypes\n",
    "- data transformation\n",
    "- make new features\n",
    "- join tables"
   ]
  },
  {
   "cell_type": "markdown",
   "id": "a0aec4fe",
   "metadata": {},
   "source": [
    "### rename columns"
   ]
  },
  {
   "cell_type": "markdown",
   "id": "0a5929b1",
   "metadata": {
    "tags": []
   },
   "source": [
    "#### change SLA_due_date to case_due_date"
   ]
  },
  {
   "cell_type": "code",
   "execution_count": 50,
   "id": "65a67778-ec73-4156-9621-1c087dd1a7e1",
   "metadata": {},
   "outputs": [],
   "source": [
    "# withcolumnrenamed:\n",
    "# similar to withcolumn, but just takes the names of the column\n",
    "# and the thing with which to replace\n",
    "df = df.withColumnRenamed('SLA_due_date', 'case_due_date')"
   ]
  },
  {
   "cell_type": "markdown",
   "id": "a98297cf",
   "metadata": {},
   "source": [
    "### correct datatypes"
   ]
  },
  {
   "cell_type": "markdown",
   "id": "50584b86",
   "metadata": {},
   "source": [
    "#### change case_closed and case_late columns into boolean values"
   ]
  },
  {
   "cell_type": "code",
   "execution_count": 51,
   "id": "8f66b33b-3b83-42d6-8fad-a61a1dfa415f",
   "metadata": {},
   "outputs": [
    {
     "name": "stdout",
     "output_type": "stream",
     "text": [
      "+-----------+---------+\n",
      "|case_closed|case_late|\n",
      "+-----------+---------+\n",
      "|        YES|       NO|\n",
      "+-----------+---------+\n",
      "only showing top 1 row\n",
      "\n"
     ]
    }
   ],
   "source": [
    "df.select('case_closed', 'case_late').show(1)"
   ]
  },
  {
   "cell_type": "code",
   "execution_count": 53,
   "id": "0bb007cc-9331-4195-be80-5ffa3adfb8ca",
   "metadata": {},
   "outputs": [
    {
     "name": "stderr",
     "output_type": "stream",
     "text": [
      "23/05/19 14:53:48 WARN TaskSetManager: Stage 31 contains a task of very large size (1005 KiB). The maximum recommended task size is 1000 KiB.\n",
      "[Stage 31:>                                                       (0 + 12) / 12]\r"
     ]
    },
    {
     "name": "stdout",
     "output_type": "stream",
     "text": [
      "+-----------+-----+\n",
      "|case_closed|count|\n",
      "+-----------+-----+\n",
      "|        YES|98547|\n",
      "|         NO| 1453|\n",
      "+-----------+-----+\n",
      "\n"
     ]
    },
    {
     "name": "stderr",
     "output_type": "stream",
     "text": [
      "                                                                                \r"
     ]
    }
   ],
   "source": [
    "df.groupby('case_closed').count().show()"
   ]
  },
  {
   "cell_type": "code",
   "execution_count": 52,
   "id": "28e679af-1370-4c9a-9b79-57d57b9f17de",
   "metadata": {},
   "outputs": [
    {
     "name": "stderr",
     "output_type": "stream",
     "text": [
      "23/05/19 14:53:16 WARN TaskSetManager: Stage 28 contains a task of very large size (1005 KiB). The maximum recommended task size is 1000 KiB.\n",
      "[Stage 28:========================================================(12 + 0) / 12]\r"
     ]
    },
    {
     "name": "stdout",
     "output_type": "stream",
     "text": [
      "+-----------+\n",
      "|case_closed|\n",
      "+-----------+\n",
      "|        YES|\n",
      "|         NO|\n",
      "+-----------+\n",
      "\n"
     ]
    },
    {
     "name": "stderr",
     "output_type": "stream",
     "text": [
      "                                                                                \r"
     ]
    }
   ],
   "source": [
    "df.select('case_closed').distinct().show()"
   ]
  },
  {
   "cell_type": "code",
   "execution_count": 57,
   "id": "05ffbc28-b889-459e-bd31-a195d4a03f1b",
   "metadata": {},
   "outputs": [],
   "source": [
    "# [thing for thing in df.columns]"
   ]
  },
  {
   "cell_type": "code",
   "execution_count": 55,
   "id": "6d79bbba-b958-4707-9b1c-4abcbab2c697",
   "metadata": {},
   "outputs": [],
   "source": [
    "from pyspark.sql import functions as F"
   ]
  },
  {
   "cell_type": "code",
   "execution_count": 70,
   "id": "66b0b1fa",
   "metadata": {},
   "outputs": [],
   "source": [
    "#use condition to make true and false\n",
    "df = df.withColumn(\n",
    "    'case_closed',\n",
    "    df.case_closed == 'YES'\n",
    "    # F.expr('case_closed == \"YES\"')\n",
    ").withColumn(\n",
    "    'case_late',\n",
    "    F.expr('case_late == \"YES\"')\n",
    ")"
   ]
  },
  {
   "cell_type": "markdown",
   "id": "3c65df82",
   "metadata": {},
   "source": [
    "#### change council_district datatype to string"
   ]
  },
  {
   "cell_type": "code",
   "execution_count": 74,
   "id": "9655ab9c",
   "metadata": {},
   "outputs": [],
   "source": [
    "#use .cast()\n",
    "df = df.withColumn('council_district',\n",
    "             F.col('council_district').cast('string'))"
   ]
  },
  {
   "cell_type": "markdown",
   "id": "e7d21ecb",
   "metadata": {},
   "source": [
    "#### change dates to datetype"
   ]
  },
  {
   "cell_type": "markdown",
   "id": "91d94432",
   "metadata": {},
   "source": [
    "format date strings: https://docs.oracle.com/javase/10/docs/api/java/time/format/DateTimeFormatter.html"
   ]
  },
  {
   "cell_type": "code",
   "execution_count": 76,
   "id": "efec80ef-a029-463f-bf94-a4a6b2329a53",
   "metadata": {},
   "outputs": [
    {
     "name": "stdout",
     "output_type": "stream",
     "text": [
      "root\n",
      " |-- case_opened_date: string (nullable = true)\n",
      " |-- case_closed_date: string (nullable = true)\n",
      "\n"
     ]
    }
   ],
   "source": [
    "df.select('case_opened_date',\n",
    "          'case_closed_date').printSchema()"
   ]
  },
  {
   "cell_type": "code",
   "execution_count": 78,
   "id": "ef049338-d01f-4dff-99e0-74d8a54338fc",
   "metadata": {},
   "outputs": [
    {
     "name": "stdout",
     "output_type": "stream",
     "text": [
      "+----------------+----------------+\n",
      "|case_opened_date|case_closed_date|\n",
      "+----------------+----------------+\n",
      "|     1/1/18 0:42|    1/1/18 12:29|\n",
      "|     1/1/18 0:46|     1/3/18 8:11|\n",
      "+----------------+----------------+\n",
      "only showing top 2 rows\n",
      "\n"
     ]
    }
   ],
   "source": [
    "df.select('case_opened_date',\n",
    "          'case_closed_date').show(2)"
   ]
  },
  {
   "cell_type": "code",
   "execution_count": 81,
   "id": "e9ad1d0d-85f1-41e1-9bfc-bb13389a8b35",
   "metadata": {},
   "outputs": [],
   "source": [
    "fmt = 'M/d/yy H:m'"
   ]
  },
  {
   "cell_type": "code",
   "execution_count": 82,
   "id": "8093fa25",
   "metadata": {},
   "outputs": [
    {
     "name": "stdout",
     "output_type": "stream",
     "text": [
      "+------------------------------------------+------------------------------------------+\n",
      "|to_timestamp(case_opened_date, M/d/yy H:m)|to_timestamp(case_closed_date, M/d/yy H:m)|\n",
      "+------------------------------------------+------------------------------------------+\n",
      "|                       2018-01-01 00:42:00|                       2018-01-01 12:29:00|\n",
      "|                       2018-01-01 00:46:00|                       2018-01-03 08:11:00|\n",
      "+------------------------------------------+------------------------------------------+\n",
      "only showing top 2 rows\n",
      "\n"
     ]
    }
   ],
   "source": [
    "#use to_timestamp\n",
    "df.select(\n",
    "    F.to_timestamp('case_opened_date', fmt),\n",
    "    F.to_timestamp('case_closed_date', fmt)\n",
    ").show(2)"
   ]
  },
  {
   "cell_type": "code",
   "execution_count": 85,
   "id": "2ea51157-4da7-474f-8557-e87efb9e0e2f",
   "metadata": {},
   "outputs": [
    {
     "name": "stdout",
     "output_type": "stream",
     "text": [
      "-RECORD 0------------------------------------\n",
      " case_id              | 1014127332           \n",
      " case_opened_date     | 2018-01-01 00:42:00  \n",
      " case_closed_date     | 2018-01-01 12:29:00  \n",
      " case_due_date        | 9/26/20 0:42         \n",
      " case_late            | false                \n",
      " num_days_late        | -998.5087616         \n",
      " case_closed          | true                 \n",
      " dept_division        | Field Operations     \n",
      " service_request_type | Stray Animal         \n",
      " SLA_days             | 999.0                \n",
      " case_status          | Closed               \n",
      " source_id            | svcCRMLS             \n",
      " request_address      | 2315  EL PASO ST,... \n",
      " council_district     | 5                    \n",
      "-RECORD 1------------------------------------\n",
      " case_id              | 1014127333           \n",
      " case_opened_date     | 2018-01-01 00:46:00  \n",
      " case_closed_date     | 2018-01-03 08:11:00  \n",
      " case_due_date        | 1/5/18 8:30          \n",
      " case_late            | false                \n",
      " num_days_late        | -2.012604167         \n",
      " case_closed          | true                 \n",
      " dept_division        | Storm Water          \n",
      " service_request_type | Removal Of Obstru... \n",
      " SLA_days             | 4.322222222          \n",
      " case_status          | Closed               \n",
      " source_id            | svcCRMSS             \n",
      " request_address      | 2215  GOLIAD RD, ... \n",
      " council_district     | 3                    \n",
      "only showing top 2 rows\n",
      "\n"
     ]
    }
   ],
   "source": [
    "#use to_timestamp\n",
    "df.withColumn('case_opened_date',\n",
    "    F.to_timestamp('case_opened_date', fmt)\n",
    "             ).withColumn(\n",
    "    'case_closed_date',\n",
    "    F.to_timestamp('case_closed_date', fmt)\n",
    ").show(2, vertical=True)"
   ]
  },
  {
   "cell_type": "code",
   "execution_count": 86,
   "id": "706cdae0-463c-4a97-a1ee-088668561b2c",
   "metadata": {},
   "outputs": [],
   "source": [
    "#use to_timestamp\n",
    "df = df.withColumn('case_opened_date',\n",
    "    F.to_timestamp('case_opened_date', fmt)\n",
    "             ).withColumn(\n",
    "    'case_closed_date',\n",
    "    F.to_timestamp('case_closed_date', fmt)\n",
    ")"
   ]
  },
  {
   "cell_type": "markdown",
   "id": "4cbca0fd",
   "metadata": {},
   "source": [
    "### data transformation"
   ]
  },
  {
   "cell_type": "markdown",
   "id": "86cd01a0",
   "metadata": {},
   "source": [
    "#### normalize address\n",
    "- `lower`: lowercase everything\n",
    "- `trim`: remove whitespace on the edges "
   ]
  },
  {
   "cell_type": "code",
   "execution_count": 90,
   "id": "b068a02e-e966-4b7a-b62e-b7e3d93adc70",
   "metadata": {},
   "outputs": [],
   "source": [
    "df = df.withColumn(\n",
    "    'request_address',\n",
    "    F.trim(F.lower('request_address'))\n",
    ")"
   ]
  },
  {
   "cell_type": "markdown",
   "id": "d56bd761",
   "metadata": {},
   "source": [
    "#### change num_days_late to num_weeks_late"
   ]
  },
  {
   "cell_type": "code",
   "execution_count": 93,
   "id": "c888dc1c-fbd3-42f5-a541-721033c2c2ad",
   "metadata": {},
   "outputs": [],
   "source": [
    "df = df.withColumn(\n",
    "    'num_weeks_late',\n",
    "    F.expr('num_days_late / 7')\n",
    ")"
   ]
  },
  {
   "cell_type": "markdown",
   "id": "201bc28f",
   "metadata": {
    "tags": []
   },
   "source": [
    "#### change council_district to int and pad with 00s"
   ]
  },
  {
   "cell_type": "code",
   "execution_count": null,
   "id": "b7d6903c-24cf-47cd-858d-3da91af10201",
   "metadata": {},
   "outputs": [],
   "source": []
  },
  {
   "cell_type": "code",
   "execution_count": 104,
   "id": "7e8393ff-b79a-4a1e-93c9-707fa3c2e7ac",
   "metadata": {},
   "outputs": [],
   "source": [
    "df = df.withColumn(\n",
    "    'council_district',\n",
    "    F.concat(F.lit('00'), F.col('council_district')).cast('int')\n",
    ")"
   ]
  },
  {
   "cell_type": "markdown",
   "id": "37ecc429",
   "metadata": {},
   "source": [
    "### new features"
   ]
  },
  {
   "cell_type": "markdown",
   "id": "7059b9f5",
   "metadata": {
    "tags": []
   },
   "source": [
    "#### create zip code column"
   ]
  },
  {
   "cell_type": "code",
   "execution_count": 105,
   "id": "6509b508-e070-4815-a17f-17e9cea5950a",
   "metadata": {},
   "outputs": [
    {
     "name": "stdout",
     "output_type": "stream",
     "text": [
      "+------------------------------------+\n",
      "|request_address                     |\n",
      "+------------------------------------+\n",
      "|2315  el paso st, san antonio, 78207|\n",
      "|2215  goliad rd, san antonio, 78223 |\n",
      "+------------------------------------+\n",
      "only showing top 2 rows\n",
      "\n"
     ]
    }
   ],
   "source": [
    "df.select('request_address').show(2, truncate=False)"
   ]
  },
  {
   "cell_type": "code",
   "execution_count": 116,
   "id": "1cf27885-c45d-4f50-9bc7-49d0ec0a11d4",
   "metadata": {},
   "outputs": [],
   "source": [
    "df = df.withColumn(\n",
    "    'zip_code',\n",
    "    F.regexp_extract('request_address',\n",
    "                     '(\\d+$)',1)\n",
    ")\n"
   ]
  },
  {
   "cell_type": "markdown",
   "id": "e16b302f",
   "metadata": {
    "tags": []
   },
   "source": [
    "#### create case_lifetime column"
   ]
  },
  {
   "cell_type": "markdown",
   "id": "29d43cc6",
   "metadata": {},
   "source": [
    "- case_age: how long since the case first opened\n",
    "- days_to_close: the number of days between days opened and days closed\n",
    "- case_lifetime: if the case is open, how long since the case opened, if the case is closed, the number of days to close\n"
   ]
  },
  {
   "cell_type": "code",
   "execution_count": 118,
   "id": "87f3203e",
   "metadata": {},
   "outputs": [],
   "source": [
    "#use datediff() to find the difference between two dates\n",
    "df = df.withColumn(\n",
    "    'case_age',\n",
    "    F.datediff(\n",
    "        F.current_timestamp(),\n",
    "        'case_opened_date'\n",
    "    )\n",
    ")"
   ]
  },
  {
   "cell_type": "code",
   "execution_count": 119,
   "id": "f0a2bc98-3f8f-4c6d-abe4-d700f83454a7",
   "metadata": {},
   "outputs": [],
   "source": [
    "# days to close:\n",
    "df = df.withColumn(\n",
    "    'days_to_close',\n",
    "    F.datediff(\n",
    "        'case_closed_date',\n",
    "        'case_opened_date'\n",
    "    )\n",
    ")"
   ]
  },
  {
   "cell_type": "code",
   "execution_count": 120,
   "id": "3bb93de2-fd38-4433-a529-d8218ed89214",
   "metadata": {},
   "outputs": [
    {
     "name": "stdout",
     "output_type": "stream",
     "text": [
      "-RECORD 0------------------------------------\n",
      " case_id              | 1014127332           \n",
      " case_opened_date     | 2018-01-01 00:42:00  \n",
      " case_closed_date     | 2018-01-01 12:29:00  \n",
      " case_due_date        | 9/26/20 0:42         \n",
      " case_late            | false                \n",
      " num_days_late        | -998.5087616         \n",
      " case_closed          | true                 \n",
      " dept_division        | Field Operations     \n",
      " service_request_type | Stray Animal         \n",
      " SLA_days             | 999.0                \n",
      " case_status          | Closed               \n",
      " source_id            | svcCRMLS             \n",
      " request_address      | 2315  el paso st,... \n",
      " council_district     | 5                    \n",
      " num_weeks_late       | -142.6441088         \n",
      " zip_code             | 78207                \n",
      " case_age             | 1964                 \n",
      " days_to_close        | 0                    \n",
      "only showing top 1 row\n",
      "\n"
     ]
    }
   ],
   "source": [
    "df.show(1, vertical=True)"
   ]
  },
  {
   "cell_type": "code",
   "execution_count": 127,
   "id": "6f7e245f-3e05-4c07-86e6-bc88ab51b3d6",
   "metadata": {},
   "outputs": [
    {
     "name": "stdout",
     "output_type": "stream",
     "text": [
      "-RECORD 0------------------------------------\n",
      " case_id              | 1014127332           \n",
      " case_opened_date     | 2018-01-01 00:42:00  \n",
      " case_closed_date     | 2018-01-01 12:29:00  \n",
      " case_due_date        | 9/26/20 0:42         \n",
      " case_late            | false                \n",
      " num_days_late        | -998.5087616         \n",
      " case_closed          | true                 \n",
      " dept_division        | Field Operations     \n",
      " service_request_type | Stray Animal         \n",
      " SLA_days             | 999.0                \n",
      " case_status          | Closed               \n",
      " source_id            | svcCRMLS             \n",
      " request_address      | 2315  el paso st,... \n",
      " council_district     | 5                    \n",
      " num_weeks_late       | -142.6441088         \n",
      " zip_code             | 78207                \n",
      " case_age             | 1964                 \n",
      " days_to_close        | 0                    \n",
      "-RECORD 1------------------------------------\n",
      " case_id              | 1014127333           \n",
      " case_opened_date     | 2018-01-01 00:46:00  \n",
      " case_closed_date     | 2018-01-03 08:11:00  \n",
      " case_due_date        | 1/5/18 8:30          \n",
      " case_late            | false                \n",
      " num_days_late        | -2.012604167         \n",
      " case_closed          | true                 \n",
      " dept_division        | Storm Water          \n",
      " service_request_type | Removal Of Obstru... \n",
      " SLA_days             | 4.322222222          \n",
      " case_status          | Closed               \n",
      " source_id            | svcCRMSS             \n",
      " request_address      | 2215  goliad rd, ... \n",
      " council_district     | 3                    \n",
      " num_weeks_late       | -0.287514881         \n",
      " zip_code             | 78223                \n",
      " case_age             | 1964                 \n",
      " days_to_close        | 2                    \n",
      "-RECORD 2------------------------------------\n",
      " case_id              | 1014127334           \n",
      " case_opened_date     | 2018-01-01 00:48:00  \n",
      " case_closed_date     | 2018-01-02 07:57:00  \n",
      " case_due_date        | 1/5/18 8:30          \n",
      " case_late            | false                \n",
      " num_days_late        | -3.022337963         \n",
      " case_closed          | true                 \n",
      " dept_division        | Storm Water          \n",
      " service_request_type | Removal Of Obstru... \n",
      " SLA_days             | 4.320729167          \n",
      " case_status          | Closed               \n",
      " source_id            | svcCRMSS             \n",
      " request_address      | 102  palfrey st w... \n",
      " council_district     | 3                    \n",
      " num_weeks_late       | -0.43176256614285713 \n",
      " zip_code             | 78223                \n",
      " case_age             | 1964                 \n",
      " days_to_close        | 1                    \n",
      "-RECORD 3------------------------------------\n",
      " case_id              | 1014127335           \n",
      " case_opened_date     | 2018-01-01 01:29:00  \n",
      " case_closed_date     | 2018-01-02 08:13:00  \n",
      " case_due_date        | 1/17/18 8:30         \n",
      " case_late            | false                \n",
      " num_days_late        | -15.01148148         \n",
      " case_closed          | true                 \n",
      " dept_division        | Code Enforcement     \n",
      " service_request_type | Front Or Side Yar... \n",
      " SLA_days             | 16.29188657          \n",
      " case_status          | Closed               \n",
      " source_id            | svcCRMSS             \n",
      " request_address      | 114  la garde st,... \n",
      " council_district     | 3                    \n",
      " num_weeks_late       | -2.1444973542857144  \n",
      " zip_code             | 78223                \n",
      " case_age             | 1964                 \n",
      " days_to_close        | 1                    \n",
      "-RECORD 4------------------------------------\n",
      " case_id              | 1014127336           \n",
      " case_opened_date     | 2018-01-01 01:34:00  \n",
      " case_closed_date     | 2018-01-01 13:29:00  \n",
      " case_due_date        | 1/1/18 4:34          \n",
      " case_late            | true                 \n",
      " num_days_late        | 0.372164352          \n",
      " case_closed          | true                 \n",
      " dept_division        | Field Operations     \n",
      " service_request_type | Animal Cruelty(Cr... \n",
      " SLA_days             | 0.125                \n",
      " case_status          | Closed               \n",
      " source_id            | svcCRMSS             \n",
      " request_address      | 734  clearview dr... \n",
      " council_district     | 7                    \n",
      " num_weeks_late       | 0.053166335999999995 \n",
      " zip_code             | 78228                \n",
      " case_age             | 1964                 \n",
      " days_to_close        | 0                    \n",
      "only showing top 5 rows\n",
      "\n"
     ]
    }
   ],
   "source": [
    "df.filter(F.col('case_closed') == 'true').show(5, vertical=True)"
   ]
  },
  {
   "cell_type": "code",
   "execution_count": 134,
   "id": "4bf1e23e-a4ae-41d2-84c3-f6a3fa287ccc",
   "metadata": {},
   "outputs": [
    {
     "name": "stdout",
     "output_type": "stream",
     "text": [
      "-RECORD 0-------------------------------\n",
      " case_age         | 1964                \n",
      " days_to_close    | 0                   \n",
      " case_opened_date | 2018-01-01 00:42:00 \n",
      " case_closed_date | 2018-01-01 12:29:00 \n",
      " case_closed      | true                \n",
      "only showing top 1 row\n",
      "\n"
     ]
    }
   ],
   "source": [
    "df.select(\n",
    "    'case_age',\n",
    "    'days_to_close',\n",
    "    'case_opened_date',\n",
    "    'case_closed_date',\n",
    "'case_closed').show(1, vertical=True)"
   ]
  },
  {
   "cell_type": "code",
   "execution_count": 146,
   "id": "9c9eee27-d038-41f1-865e-beafb654506e",
   "metadata": {},
   "outputs": [],
   "source": [
    "df = df.withColumn(\n",
    "    'case_lifetime',\n",
    "    F.when(F.col('case_closed') == 'true', \n",
    "           F.col('days_to_close')\n",
    "          ).otherwise(F.col('case_age'))\n",
    ")"
   ]
  },
  {
   "cell_type": "code",
   "execution_count": 149,
   "id": "22524bf3",
   "metadata": {},
   "outputs": [],
   "source": [
    "#drop unnecessary columns\n",
    "df = df.drop('days_to_close').drop('case_age')"
   ]
  },
  {
   "cell_type": "markdown",
   "id": "638518f0",
   "metadata": {},
   "source": [
    "### join the dept table from sql to our current df"
   ]
  },
  {
   "cell_type": "code",
   "execution_count": 150,
   "id": "83bb0fe8",
   "metadata": {},
   "outputs": [
    {
     "name": "stdout",
     "output_type": "stream",
     "text": [
      "+----------------+\n",
      "|   dept_division|\n",
      "+----------------+\n",
      "|Field Operations|\n",
      "|     Storm Water|\n",
      "|     Storm Water|\n",
      "|Code Enforcement|\n",
      "|Field Operations|\n",
      "+----------------+\n",
      "only showing top 5 rows\n",
      "\n"
     ]
    }
   ],
   "source": [
    "df.select('dept_division').show(5)"
   ]
  },
  {
   "cell_type": "code",
   "execution_count": 151,
   "id": "59b24e71-2825-464b-b54a-a3c03499904c",
   "metadata": {},
   "outputs": [],
   "source": [
    "#get dept table from sql\n",
    "query = 'select * from dept'"
   ]
  },
  {
   "cell_type": "code",
   "execution_count": null,
   "id": "62a11688-7ce9-483d-8493-db724a883c4d",
   "metadata": {},
   "outputs": [],
   "source": [
    "# url = get_db_url('311_data')\n",
    "# dept = pd.read_sql(query, url)"
   ]
  },
  {
   "cell_type": "code",
   "execution_count": 152,
   "id": "d0aa1ab1-4bda-4274-ad06-f7d5a755a414",
   "metadata": {
    "tags": []
   },
   "outputs": [
    {
     "data": {
      "text/plain": [
       "DataFrame[dept_division: string, dept_name: string, standardized_dept_name: string, dept_subject_to_SLA: string]"
      ]
     },
     "execution_count": 152,
     "metadata": {},
     "output_type": "execute_result"
    }
   ],
   "source": [
    "dept = spark.createDataFrame(pd.read_csv('dept.csv'))\n",
    "dept"
   ]
  },
  {
   "cell_type": "code",
   "execution_count": 155,
   "id": "386ff800-1c81-4b35-8fa1-8fd00483c16f",
   "metadata": {},
   "outputs": [
    {
     "name": "stdout",
     "output_type": "stream",
     "text": [
      "-RECORD 0--------------------------------------\n",
      " dept_division          | 311 Call Center      \n",
      " dept_name              | Customer Service     \n",
      " standardized_dept_name | Customer Service     \n",
      " dept_subject_to_SLA    | YES                  \n",
      "-RECORD 1--------------------------------------\n",
      " dept_division          | Brush                \n",
      " dept_name              | Solid Waste Manag... \n",
      " standardized_dept_name | Solid Waste          \n",
      " dept_subject_to_SLA    | YES                  \n",
      "only showing top 2 rows\n",
      "\n"
     ]
    }
   ],
   "source": [
    "dept.show(2, vertical=True)"
   ]
  },
  {
   "cell_type": "code",
   "execution_count": 156,
   "id": "59111158-e74a-4038-b466-45b7431b53c6",
   "metadata": {},
   "outputs": [
    {
     "name": "stdout",
     "output_type": "stream",
     "text": [
      "-RECORD 0------------------------------------\n",
      " case_id              | 1014127332           \n",
      " case_opened_date     | 2018-01-01 00:42:00  \n",
      " case_closed_date     | 2018-01-01 12:29:00  \n",
      " case_due_date        | 9/26/20 0:42         \n",
      " case_late            | false                \n",
      " num_days_late        | -998.5087616         \n",
      " case_closed          | true                 \n",
      " dept_division        | Field Operations     \n",
      " service_request_type | Stray Animal         \n",
      " SLA_days             | 999.0                \n",
      " case_status          | Closed               \n",
      " source_id            | svcCRMLS             \n",
      " request_address      | 2315  el paso st,... \n",
      " council_district     | 5                    \n",
      " num_weeks_late       | -142.6441088         \n",
      " zip_code             | 78207                \n",
      " case_lifetime        | 0                    \n",
      "only showing top 1 row\n",
      "\n"
     ]
    }
   ],
   "source": [
    "df.show(1, vertical=True)"
   ]
  },
  {
   "cell_type": "code",
   "execution_count": 158,
   "id": "ec7dee80-1760-46ae-9f4e-905413752731",
   "metadata": {},
   "outputs": [],
   "source": [
    "df = df.join(dept,\n",
    "        'dept_division',\n",
    "        'left')"
   ]
  },
  {
   "cell_type": "markdown",
   "id": "f904326a",
   "metadata": {
    "tags": []
   },
   "source": [
    "### train, validate, test split"
   ]
  },
  {
   "cell_type": "markdown",
   "id": "f8f04c04",
   "metadata": {},
   "source": [
    "- `.randomSplit` to split df"
   ]
  },
  {
   "cell_type": "code",
   "execution_count": 159,
   "id": "f4f08570",
   "metadata": {},
   "outputs": [],
   "source": [
    "train, validate, test = df.randomSplit(\n",
    "    [.6,.2,.2],\n",
    "seed=1349)"
   ]
  },
  {
   "cell_type": "code",
   "execution_count": 160,
   "id": "ad00b625-b240-4afa-8712-24ceac398ce1",
   "metadata": {},
   "outputs": [
    {
     "name": "stderr",
     "output_type": "stream",
     "text": [
      "23/05/19 15:55:27 WARN TaskSetManager: Stage 99 contains a task of very large size (1005 KiB). The maximum recommended task size is 1000 KiB.\n",
      "                                                                                \r"
     ]
    },
    {
     "data": {
      "text/plain": [
       "60123"
      ]
     },
     "execution_count": 160,
     "metadata": {},
     "output_type": "execute_result"
    }
   ],
   "source": [
    "train.count()"
   ]
  },
  {
   "cell_type": "code",
   "execution_count": 161,
   "id": "604a7f99-2154-4751-8914-35a1a869990e",
   "metadata": {},
   "outputs": [
    {
     "name": "stderr",
     "output_type": "stream",
     "text": [
      "23/05/19 15:55:37 WARN TaskSetManager: Stage 108 contains a task of very large size (1005 KiB). The maximum recommended task size is 1000 KiB.\n",
      "                                                                                \r"
     ]
    },
    {
     "data": {
      "text/plain": [
       "100000"
      ]
     },
     "execution_count": 161,
     "metadata": {},
     "output_type": "execute_result"
    }
   ],
   "source": [
    "df.count()"
   ]
  },
  {
   "cell_type": "code",
   "execution_count": null,
   "id": "94bce891-8ffb-458f-a5ce-617466daef1d",
   "metadata": {},
   "outputs": [],
   "source": []
  }
 ],
 "metadata": {
  "kernelspec": {
   "display_name": "Python 3 (ipykernel)",
   "language": "python",
   "name": "python3"
  },
  "language_info": {
   "codemirror_mode": {
    "name": "ipython",
    "version": 3
   },
   "file_extension": ".py",
   "mimetype": "text/x-python",
   "name": "python",
   "nbconvert_exporter": "python",
   "pygments_lexer": "ipython3",
   "version": "3.9.13"
  }
 },
 "nbformat": 4,
 "nbformat_minor": 5
}
