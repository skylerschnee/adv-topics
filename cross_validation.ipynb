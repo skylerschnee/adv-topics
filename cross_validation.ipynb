{
 "cells": [
  {
   "cell_type": "markdown",
   "id": "0b28171c-320b-4fcb-9375-ad7fdaa43b0e",
   "metadata": {},
   "source": [
    "### Cross Validation"
   ]
  },
  {
   "cell_type": "markdown",
   "id": "1f8144a4-e5d3-4962-9568-1c69467efd32",
   "metadata": {},
   "source": [
    "#### What is?\n",
    " - Cross validation is the implementation of making one or more supplementary datasets in addition to a conventional train/test split, in order to garner a better idea of how a predictive model will perform on \"unseen\" data before utimately picking the best model to be put into production"
   ]
  },
  {
   "cell_type": "markdown",
   "id": "239054f8-cc56-49c7-9785-f06aa1107b79",
   "metadata": {},
   "source": [
    "When we want to pick the \"best\" model, we want to examine the best set of parameters and hyperparameters for our models in relation to our data. In order to do this in an efficient and programmatic way, we can rely on two concepts:\n",
    "cross validation, and grid search.\n",
    "\n",
    "Grid Search will allow us to chose the best set of hyperparameters for our model at-a-glance by throwing a lot of training processes into an automated fashion."
   ]
  },
  {
   "cell_type": "markdown",
   "id": "865f7512-8944-465b-a49c-5ebda22833d3",
   "metadata": {},
   "source": [
    "- Let's examine this on a quick runthrough of a pipeline."
   ]
  },
  {
   "cell_type": "code",
   "execution_count": 1,
   "id": "c6c92ab2-5169-41b9-995e-85288942a217",
   "metadata": {},
   "outputs": [],
   "source": [
    "import pandas as pd\n",
    "import numpy as np\n",
    "from sklearn.model_selection import train_test_split, cross_val_score, GridSearchCV"
   ]
  },
  {
   "cell_type": "code",
   "execution_count": 2,
   "id": "fc20ca58-ecfe-4996-be8e-6d4ea331b240",
   "metadata": {},
   "outputs": [],
   "source": [
    "# first, let's load up the cars dataset:\n",
    "cars = pd.read_csv('cars.csv')"
   ]
  },
  {
   "cell_type": "code",
   "execution_count": 3,
   "id": "13864e80-483a-4222-aa25-f13a23e3f365",
   "metadata": {},
   "outputs": [
    {
     "name": "stdout",
     "output_type": "stream",
     "text": [
      "<class 'pandas.core.frame.DataFrame'>\n",
      "RangeIndex: 297899 entries, 0 to 297898\n",
      "Data columns (total 8 columns):\n",
      " #   Column   Non-Null Count   Dtype \n",
      "---  ------   --------------   ----- \n",
      " 0   price    297899 non-null  int64 \n",
      " 1   year     297899 non-null  int64 \n",
      " 2   mileage  297899 non-null  int64 \n",
      " 3   city     297899 non-null  object\n",
      " 4   state    297899 non-null  object\n",
      " 5   vin      297899 non-null  object\n",
      " 6   make     297899 non-null  object\n",
      " 7   model    297899 non-null  object\n",
      "dtypes: int64(3), object(5)\n",
      "memory usage: 18.2+ MB\n"
     ]
    }
   ],
   "source": [
    "cars.info()"
   ]
  },
  {
   "cell_type": "code",
   "execution_count": 4,
   "id": "bdb50427-17ad-4053-b604-2a45915d9ecc",
   "metadata": {},
   "outputs": [],
   "source": [
    "# This is a data set that I have with \n",
    "# a set of vehicles with sales information\n",
    "# Some cars have probably sold unusually high. \n",
    "# can we identify which cars have sold high?\n",
    "# can we make a classifier if that is the case?"
   ]
  },
  {
   "cell_type": "code",
   "execution_count": 5,
   "id": "e1ae35e2-51e6-48bc-9ff7-4892d1f1d447",
   "metadata": {},
   "outputs": [],
   "source": [
    "# how do I define sold high?"
   ]
  },
  {
   "cell_type": "code",
   "execution_count": 6,
   "id": "6b5347d2-1912-41aa-a4d2-0ddfdbe57d46",
   "metadata": {},
   "outputs": [
    {
     "data": {
      "text/html": [
       "<div>\n",
       "<style scoped>\n",
       "    .dataframe tbody tr th:only-of-type {\n",
       "        vertical-align: middle;\n",
       "    }\n",
       "\n",
       "    .dataframe tbody tr th {\n",
       "        vertical-align: top;\n",
       "    }\n",
       "\n",
       "    .dataframe thead th {\n",
       "        text-align: right;\n",
       "    }\n",
       "</style>\n",
       "<table border=\"1\" class=\"dataframe\">\n",
       "  <thead>\n",
       "    <tr style=\"text-align: right;\">\n",
       "      <th></th>\n",
       "      <th>price</th>\n",
       "      <th>year</th>\n",
       "      <th>mileage</th>\n",
       "      <th>city</th>\n",
       "      <th>state</th>\n",
       "      <th>vin</th>\n",
       "      <th>make</th>\n",
       "      <th>model</th>\n",
       "    </tr>\n",
       "  </thead>\n",
       "  <tbody>\n",
       "    <tr>\n",
       "      <th>0</th>\n",
       "      <td>16472</td>\n",
       "      <td>2015</td>\n",
       "      <td>18681</td>\n",
       "      <td>Jefferson City</td>\n",
       "      <td>MO</td>\n",
       "      <td>KL4CJBSBXFB267643</td>\n",
       "      <td>Buick</td>\n",
       "      <td>EncoreConvenience</td>\n",
       "    </tr>\n",
       "    <tr>\n",
       "      <th>1</th>\n",
       "      <td>15749</td>\n",
       "      <td>2015</td>\n",
       "      <td>27592</td>\n",
       "      <td>Highland</td>\n",
       "      <td>IN</td>\n",
       "      <td>KL4CJASB5FB245057</td>\n",
       "      <td>Buick</td>\n",
       "      <td>EncoreFWD</td>\n",
       "    </tr>\n",
       "    <tr>\n",
       "      <th>2</th>\n",
       "      <td>16998</td>\n",
       "      <td>2015</td>\n",
       "      <td>13650</td>\n",
       "      <td>Boone</td>\n",
       "      <td>NC</td>\n",
       "      <td>KL4CJCSB0FB264921</td>\n",
       "      <td>Buick</td>\n",
       "      <td>EncoreLeather</td>\n",
       "    </tr>\n",
       "    <tr>\n",
       "      <th>3</th>\n",
       "      <td>15777</td>\n",
       "      <td>2015</td>\n",
       "      <td>25195</td>\n",
       "      <td>New Orleans</td>\n",
       "      <td>LA</td>\n",
       "      <td>KL4CJASB4FB217542</td>\n",
       "      <td>Buick</td>\n",
       "      <td>EncoreFWD</td>\n",
       "    </tr>\n",
       "    <tr>\n",
       "      <th>4</th>\n",
       "      <td>16784</td>\n",
       "      <td>2015</td>\n",
       "      <td>22800</td>\n",
       "      <td>Las Vegas</td>\n",
       "      <td>NV</td>\n",
       "      <td>KL4CJBSB3FB166881</td>\n",
       "      <td>Buick</td>\n",
       "      <td>EncoreConvenience</td>\n",
       "    </tr>\n",
       "  </tbody>\n",
       "</table>\n",
       "</div>"
      ],
      "text/plain": [
       "   price  year  mileage            city state                vin   make   \n",
       "0  16472  2015    18681  Jefferson City    MO  KL4CJBSBXFB267643  Buick  \\\n",
       "1  15749  2015    27592        Highland    IN  KL4CJASB5FB245057  Buick   \n",
       "2  16998  2015    13650           Boone    NC  KL4CJCSB0FB264921  Buick   \n",
       "3  15777  2015    25195     New Orleans    LA  KL4CJASB4FB217542  Buick   \n",
       "4  16784  2015    22800       Las Vegas    NV  KL4CJBSB3FB166881  Buick   \n",
       "\n",
       "               model  \n",
       "0  EncoreConvenience  \n",
       "1          EncoreFWD  \n",
       "2      EncoreLeather  \n",
       "3          EncoreFWD  \n",
       "4  EncoreConvenience  "
      ]
     },
     "execution_count": 6,
     "metadata": {},
     "output_type": "execute_result"
    }
   ],
   "source": [
    "cars.head()"
   ]
  },
  {
   "cell_type": "code",
   "execution_count": 7,
   "id": "7564f740-464e-468d-ad80-43dd6319004f",
   "metadata": {},
   "outputs": [],
   "source": [
    "# lets try to make an assessment of cars\n",
    "# that are alike and see if we can predict\n",
    "# what makes a car sell high"
   ]
  },
  {
   "cell_type": "code",
   "execution_count": 8,
   "id": "0a0ee973-9082-41cc-9b57-abd212b11f8f",
   "metadata": {},
   "outputs": [
    {
     "data": {
      "text/plain": [
       "make     model          year\n",
       "AM       General        1997     62489.250000\n",
       "                        1998     47499.500000\n",
       "                        1999     48097.500000\n",
       "                        2000     58658.142857\n",
       "                        2001     71748.000000\n",
       "                                    ...      \n",
       "Porsche  PanameraTurbo  2013     72924.000000\n",
       "                        2014     81624.333333\n",
       "                        2015     88990.000000\n",
       "                        2017    148993.333333\n",
       "         Panamerabase   2013     43296.833333\n",
       "Name: price, Length: 5833, dtype: float64"
      ]
     },
     "execution_count": 8,
     "metadata": {},
     "output_type": "execute_result"
    }
   ],
   "source": [
    "cars.groupby(['make', 'model','year']).price.mean()"
   ]
  },
  {
   "cell_type": "code",
   "execution_count": 9,
   "id": "88bf49b6-10ec-4930-8b06-4c4a9eefc730",
   "metadata": {},
   "outputs": [],
   "source": [
    "# lets put that mean price back into the original\n",
    "# dataframe:\n",
    "cars['mean_price'] = cars.groupby(\n",
    "    ['make','model','year']).price.transform('mean')"
   ]
  },
  {
   "cell_type": "code",
   "execution_count": 10,
   "id": "d094367b-83d8-4c49-8ae4-8ab9b0dfb743",
   "metadata": {},
   "outputs": [
    {
     "data": {
      "text/html": [
       "<div>\n",
       "<style scoped>\n",
       "    .dataframe tbody tr th:only-of-type {\n",
       "        vertical-align: middle;\n",
       "    }\n",
       "\n",
       "    .dataframe tbody tr th {\n",
       "        vertical-align: top;\n",
       "    }\n",
       "\n",
       "    .dataframe thead th {\n",
       "        text-align: right;\n",
       "    }\n",
       "</style>\n",
       "<table border=\"1\" class=\"dataframe\">\n",
       "  <thead>\n",
       "    <tr style=\"text-align: right;\">\n",
       "      <th></th>\n",
       "      <th>price</th>\n",
       "      <th>year</th>\n",
       "      <th>mileage</th>\n",
       "      <th>city</th>\n",
       "      <th>state</th>\n",
       "      <th>vin</th>\n",
       "      <th>make</th>\n",
       "      <th>model</th>\n",
       "      <th>mean_price</th>\n",
       "    </tr>\n",
       "  </thead>\n",
       "  <tbody>\n",
       "    <tr>\n",
       "      <th>0</th>\n",
       "      <td>16472</td>\n",
       "      <td>2015</td>\n",
       "      <td>18681</td>\n",
       "      <td>Jefferson City</td>\n",
       "      <td>MO</td>\n",
       "      <td>KL4CJBSBXFB267643</td>\n",
       "      <td>Buick</td>\n",
       "      <td>EncoreConvenience</td>\n",
       "      <td>17291.768786</td>\n",
       "    </tr>\n",
       "    <tr>\n",
       "      <th>1</th>\n",
       "      <td>15749</td>\n",
       "      <td>2015</td>\n",
       "      <td>27592</td>\n",
       "      <td>Highland</td>\n",
       "      <td>IN</td>\n",
       "      <td>KL4CJASB5FB245057</td>\n",
       "      <td>Buick</td>\n",
       "      <td>EncoreFWD</td>\n",
       "      <td>16721.350598</td>\n",
       "    </tr>\n",
       "    <tr>\n",
       "      <th>2</th>\n",
       "      <td>16998</td>\n",
       "      <td>2015</td>\n",
       "      <td>13650</td>\n",
       "      <td>Boone</td>\n",
       "      <td>NC</td>\n",
       "      <td>KL4CJCSB0FB264921</td>\n",
       "      <td>Buick</td>\n",
       "      <td>EncoreLeather</td>\n",
       "      <td>19080.632911</td>\n",
       "    </tr>\n",
       "    <tr>\n",
       "      <th>3</th>\n",
       "      <td>15777</td>\n",
       "      <td>2015</td>\n",
       "      <td>25195</td>\n",
       "      <td>New Orleans</td>\n",
       "      <td>LA</td>\n",
       "      <td>KL4CJASB4FB217542</td>\n",
       "      <td>Buick</td>\n",
       "      <td>EncoreFWD</td>\n",
       "      <td>16721.350598</td>\n",
       "    </tr>\n",
       "    <tr>\n",
       "      <th>4</th>\n",
       "      <td>16784</td>\n",
       "      <td>2015</td>\n",
       "      <td>22800</td>\n",
       "      <td>Las Vegas</td>\n",
       "      <td>NV</td>\n",
       "      <td>KL4CJBSB3FB166881</td>\n",
       "      <td>Buick</td>\n",
       "      <td>EncoreConvenience</td>\n",
       "      <td>17291.768786</td>\n",
       "    </tr>\n",
       "  </tbody>\n",
       "</table>\n",
       "</div>"
      ],
      "text/plain": [
       "   price  year  mileage            city state                vin   make   \n",
       "0  16472  2015    18681  Jefferson City    MO  KL4CJBSBXFB267643  Buick  \\\n",
       "1  15749  2015    27592        Highland    IN  KL4CJASB5FB245057  Buick   \n",
       "2  16998  2015    13650           Boone    NC  KL4CJCSB0FB264921  Buick   \n",
       "3  15777  2015    25195     New Orleans    LA  KL4CJASB4FB217542  Buick   \n",
       "4  16784  2015    22800       Las Vegas    NV  KL4CJBSB3FB166881  Buick   \n",
       "\n",
       "               model    mean_price  \n",
       "0  EncoreConvenience  17291.768786  \n",
       "1          EncoreFWD  16721.350598  \n",
       "2      EncoreLeather  19080.632911  \n",
       "3          EncoreFWD  16721.350598  \n",
       "4  EncoreConvenience  17291.768786  "
      ]
     },
     "execution_count": 10,
     "metadata": {},
     "output_type": "execute_result"
    }
   ],
   "source": [
    "cars.head()"
   ]
  },
  {
   "cell_type": "code",
   "execution_count": 11,
   "id": "d8f2be98-530f-4aed-a669-4487ad66691d",
   "metadata": {},
   "outputs": [],
   "source": [
    "cars['sold_high'] = (cars.price > cars['mean_price']\n",
    "                    ).astype(int)"
   ]
  },
  {
   "cell_type": "code",
   "execution_count": 12,
   "id": "9ebab7b5-539d-43a5-94a4-3511d4db17de",
   "metadata": {},
   "outputs": [
    {
     "data": {
      "text/plain": [
       "sold_high\n",
       "0    158520\n",
       "1    139379\n",
       "Name: count, dtype: int64"
      ]
     },
     "execution_count": 12,
     "metadata": {},
     "output_type": "execute_result"
    }
   ],
   "source": [
    "cars['sold_high'].value_counts()"
   ]
  },
  {
   "cell_type": "code",
   "execution_count": 13,
   "id": "fdda1f5f-b3f8-4730-8a32-0ed55ef9c9f1",
   "metadata": {},
   "outputs": [],
   "source": [
    "num_feats = [col for col in cars.columns if (\n",
    "    np.issubdtype(cars[col], np.number\n",
    "    ) and cars[col].nunique() > 25)]"
   ]
  },
  {
   "cell_type": "code",
   "execution_count": 14,
   "id": "38106676-c75e-4068-9464-a891e345246f",
   "metadata": {},
   "outputs": [
    {
     "data": {
      "text/plain": [
       "['price', 'mileage', 'mean_price']"
      ]
     },
     "execution_count": 14,
     "metadata": {},
     "output_type": "execute_result"
    }
   ],
   "source": [
    "num_feats"
   ]
  },
  {
   "cell_type": "code",
   "execution_count": 15,
   "id": "2f609842-d5c1-4a09-b5bb-dce82e436ba7",
   "metadata": {},
   "outputs": [],
   "source": [
    "# mean price would not be appropriate to predict on\n",
    "num_feats.remove('mean_price')"
   ]
  },
  {
   "cell_type": "code",
   "execution_count": 16,
   "id": "c48c50bb-c760-47fd-81d3-fa95b1e4bbd6",
   "metadata": {},
   "outputs": [
    {
     "data": {
      "text/plain": [
       "Index(['price', 'year', 'mileage', 'city', 'state', 'vin', 'make', 'model',\n",
       "       'mean_price', 'sold_high'],\n",
       "      dtype='object')"
      ]
     },
     "execution_count": 16,
     "metadata": {},
     "output_type": "execute_result"
    }
   ],
   "source": [
    "cars.columns"
   ]
  },
  {
   "cell_type": "code",
   "execution_count": 17,
   "id": "6f770215-d9c1-42ef-b091-34db71d6f745",
   "metadata": {},
   "outputs": [],
   "source": [
    "# city may be too granular, going to drop it\n",
    "# vin is unique to car and not a driver\n",
    "# mean price is not useful due to the way\n",
    "# we defined the target\n",
    "# price is also associated with our target"
   ]
  },
  {
   "cell_type": "code",
   "execution_count": 18,
   "id": "228581f2-745c-45c5-8c0d-8675578ab6ec",
   "metadata": {},
   "outputs": [],
   "source": [
    "cars = cars.drop(columns=['city','vin','price', 'mean_price'])"
   ]
  },
  {
   "cell_type": "code",
   "execution_count": 19,
   "id": "3715d4b9-0663-44d0-8e41-eaf90b31a4b5",
   "metadata": {},
   "outputs": [],
   "source": [
    "cat_cols = [col for col in cars.columns if col not in num_feats]"
   ]
  },
  {
   "cell_type": "code",
   "execution_count": 20,
   "id": "15af6551-f7f2-4a94-bf5b-31fb4e42c523",
   "metadata": {},
   "outputs": [
    {
     "data": {
      "text/plain": [
       "['year', 'state', 'make', 'model', 'sold_high']"
      ]
     },
     "execution_count": 20,
     "metadata": {},
     "output_type": "execute_result"
    }
   ],
   "source": [
    "cat_cols"
   ]
  },
  {
   "cell_type": "code",
   "execution_count": 21,
   "id": "bbe48c40-90de-4965-bd8a-5911d33ae85d",
   "metadata": {},
   "outputs": [],
   "source": [
    "# remove the target\n",
    "cat_cols.remove('sold_high')"
   ]
  },
  {
   "cell_type": "code",
   "execution_count": 22,
   "id": "0eaf48c5-b9e7-4857-b663-872157e43985",
   "metadata": {},
   "outputs": [],
   "source": [
    "# lets quickly encode categorical features\n",
    "# im going to ignore ordinality for speed on this\n",
    "# specific runthrough (will go back after mvp)\n",
    "from sklearn.preprocessing import LabelEncoder"
   ]
  },
  {
   "cell_type": "code",
   "execution_count": 23,
   "id": "258af879-9692-4fba-8c62-708e2e89dd10",
   "metadata": {},
   "outputs": [],
   "source": [
    "for col in ['state', 'make', 'model']:\n",
    "    encoder = LabelEncoder()\n",
    "    cars[col] = encoder.fit_transform(cars[col])"
   ]
  },
  {
   "cell_type": "code",
   "execution_count": 24,
   "id": "f9a065b8-decd-47cd-b4a9-0587cde8e519",
   "metadata": {},
   "outputs": [
    {
     "data": {
      "text/html": [
       "<div>\n",
       "<style scoped>\n",
       "    .dataframe tbody tr th:only-of-type {\n",
       "        vertical-align: middle;\n",
       "    }\n",
       "\n",
       "    .dataframe tbody tr th {\n",
       "        vertical-align: top;\n",
       "    }\n",
       "\n",
       "    .dataframe thead th {\n",
       "        text-align: right;\n",
       "    }\n",
       "</style>\n",
       "<table border=\"1\" class=\"dataframe\">\n",
       "  <thead>\n",
       "    <tr style=\"text-align: right;\">\n",
       "      <th></th>\n",
       "      <th>year</th>\n",
       "      <th>mileage</th>\n",
       "      <th>state</th>\n",
       "      <th>make</th>\n",
       "      <th>model</th>\n",
       "      <th>sold_high</th>\n",
       "    </tr>\n",
       "  </thead>\n",
       "  <tbody>\n",
       "    <tr>\n",
       "      <th>0</th>\n",
       "      <td>2015</td>\n",
       "      <td>18681</td>\n",
       "      <td>28</td>\n",
       "      <td>7</td>\n",
       "      <td>523</td>\n",
       "      <td>0</td>\n",
       "    </tr>\n",
       "    <tr>\n",
       "      <th>1</th>\n",
       "      <td>2015</td>\n",
       "      <td>27592</td>\n",
       "      <td>19</td>\n",
       "      <td>7</td>\n",
       "      <td>525</td>\n",
       "      <td>0</td>\n",
       "    </tr>\n",
       "    <tr>\n",
       "      <th>2</th>\n",
       "      <td>2015</td>\n",
       "      <td>13650</td>\n",
       "      <td>32</td>\n",
       "      <td>7</td>\n",
       "      <td>526</td>\n",
       "      <td>0</td>\n",
       "    </tr>\n",
       "    <tr>\n",
       "      <th>3</th>\n",
       "      <td>2015</td>\n",
       "      <td>25195</td>\n",
       "      <td>22</td>\n",
       "      <td>7</td>\n",
       "      <td>525</td>\n",
       "      <td>0</td>\n",
       "    </tr>\n",
       "    <tr>\n",
       "      <th>4</th>\n",
       "      <td>2015</td>\n",
       "      <td>22800</td>\n",
       "      <td>38</td>\n",
       "      <td>7</td>\n",
       "      <td>523</td>\n",
       "      <td>0</td>\n",
       "    </tr>\n",
       "  </tbody>\n",
       "</table>\n",
       "</div>"
      ],
      "text/plain": [
       "   year  mileage  state  make  model  sold_high\n",
       "0  2015    18681     28     7    523          0\n",
       "1  2015    27592     19     7    525          0\n",
       "2  2015    13650     32     7    526          0\n",
       "3  2015    25195     22     7    525          0\n",
       "4  2015    22800     38     7    523          0"
      ]
     },
     "execution_count": 24,
     "metadata": {},
     "output_type": "execute_result"
    }
   ],
   "source": [
    "cars.head()"
   ]
  },
  {
   "cell_type": "code",
   "execution_count": 25,
   "id": "0b6c34b4-091e-48e1-911c-1cecb64bb6f6",
   "metadata": {},
   "outputs": [],
   "source": [
    "# previously:\n",
    "# train_val, test = train_test_split(cars, stratify='sold_high', \n",
    "# random_state=1349, train_size=0.8)\n",
    "# train, validate = train_test_split(train_val, stratify='sold_high',\n",
    "# random_state=1349, train_size=0.7)"
   ]
  },
  {
   "cell_type": "code",
   "execution_count": 26,
   "id": "f209de6f-f3da-42bb-9d0f-3af4f279b48c",
   "metadata": {},
   "outputs": [],
   "source": [
    "# using cv_score:"
   ]
  },
  {
   "cell_type": "code",
   "execution_count": 27,
   "id": "f534721d-c206-429e-99eb-4e3623d91434",
   "metadata": {},
   "outputs": [],
   "source": [
    "# split into train and test:"
   ]
  },
  {
   "cell_type": "code",
   "execution_count": 28,
   "id": "031b55c2-d35e-4344-831f-95b561870a75",
   "metadata": {},
   "outputs": [],
   "source": [
    "X, y = cars.drop(columns='sold_high'),\\\n",
    "cars[['sold_high']]"
   ]
  },
  {
   "cell_type": "code",
   "execution_count": 29,
   "id": "6963a926-d927-4854-92de-63dd6bc46f31",
   "metadata": {},
   "outputs": [],
   "source": [
    "# we can feed more than one data set into a \n",
    "# single call of train_test split\n",
    "# it will give us the datasets split\n",
    "# in order (thing1.train, thing1.test, thing2.train, thing2.test)\n",
    "X_train, X_test, y_train, y_test = train_test_split(\n",
    "    X, y, train_size=0.8, random_state=1349)"
   ]
  },
  {
   "cell_type": "code",
   "execution_count": 30,
   "id": "47c03876-d56e-46da-af5b-17ba27f30f9c",
   "metadata": {},
   "outputs": [
    {
     "data": {
      "text/plain": [
       "((238319, 5), (59580, 5))"
      ]
     },
     "execution_count": 30,
     "metadata": {},
     "output_type": "execute_result"
    }
   ],
   "source": [
    "X_train.shape, X_test.shape"
   ]
  },
  {
   "cell_type": "code",
   "execution_count": 31,
   "id": "29b23f72-7692-4cb3-8f28-ad33a31f8df4",
   "metadata": {},
   "outputs": [
    {
     "data": {
      "text/plain": [
       "((238319, 1), (59580, 1))"
      ]
     },
     "execution_count": 31,
     "metadata": {},
     "output_type": "execute_result"
    }
   ],
   "source": [
    "y_train.shape, y_test.shape"
   ]
  },
  {
   "cell_type": "code",
   "execution_count": 32,
   "id": "6624fe17-12f1-448c-9b13-b193dbceb4b5",
   "metadata": {},
   "outputs": [],
   "source": [
    "# model object is what we need to proceed\n",
    "# lets make one of those:\n",
    "from sklearn.tree import DecisionTreeClassifier"
   ]
  },
  {
   "cell_type": "code",
   "execution_count": 35,
   "id": "3b33eb38-0bf8-42a8-bb5d-5d24b757ad01",
   "metadata": {},
   "outputs": [
    {
     "data": {
      "text/plain": [
       "array([0.63714753, 0.64090299, 0.63574186, 0.63544814, 0.63743365])"
      ]
     },
     "execution_count": 35,
     "metadata": {},
     "output_type": "execute_result"
    }
   ],
   "source": [
    "clf = DecisionTreeClassifier(max_depth=4)\n",
    "# note we are not fitting this model\n",
    "# on our training set before\n",
    "# we feed it into cross_val score\n",
    "# the function is splitting \n",
    "cross_val_score(clf, X_train, y_train, cv=5)"
   ]
  },
  {
   "cell_type": "code",
   "execution_count": 34,
   "id": "fb887bcd-5be0-48b2-b867-0a5a1c50eb3d",
   "metadata": {},
   "outputs": [],
   "source": [
    "# on its face, we can use this\n",
    "# with just a train test split\n",
    "# and it will proceed with validation scores\n",
    "# to give us a reasonable expectation\n",
    "# for accuracy on dropoffs"
   ]
  },
  {
   "cell_type": "markdown",
   "id": "5714a89a-2639-44fc-9e3f-cf9a2b102788",
   "metadata": {},
   "source": [
    "Let's go a little further though:"
   ]
  },
  {
   "cell_type": "code",
   "execution_count": 38,
   "id": "75c879e6-c77e-4f5d-a547-d5c9e30f47a8",
   "metadata": {},
   "outputs": [],
   "source": [
    "# let's do a grid-searh:\n",
    "# define a parameter grid:\n",
    "# a parameter grid will be a dictionary\n",
    "# of whavetver hyperparameters that you want to check\n",
    "# contingent on your specific model type:\n",
    "# for a decision tree classifier,\n",
    "# itll look a little like this:\n",
    "param_grid = {\n",
    "    'max_depth': [None,10, 4, 3, 2],\n",
    "    'min_samples_leaf': [1, 3, 5, 20],\n",
    "    'criterion': ['gini', 'entropy'],\n",
    "}"
   ]
  },
  {
   "cell_type": "code",
   "execution_count": 39,
   "id": "3c195e58-7604-4206-b0c2-ba09da242b85",
   "metadata": {},
   "outputs": [],
   "source": [
    "\n",
    "gsearch = GridSearchCV(DecisionTreeClassifier(),\n",
    "                      param_grid)"
   ]
  },
  {
   "cell_type": "code",
   "execution_count": 40,
   "id": "0701e5f4-7a98-4cbc-89d4-cb52eaf185cf",
   "metadata": {},
   "outputs": [
    {
     "data": {
      "text/html": [
       "<style>#sk-container-id-1 {color: black;background-color: white;}#sk-container-id-1 pre{padding: 0;}#sk-container-id-1 div.sk-toggleable {background-color: white;}#sk-container-id-1 label.sk-toggleable__label {cursor: pointer;display: block;width: 100%;margin-bottom: 0;padding: 0.3em;box-sizing: border-box;text-align: center;}#sk-container-id-1 label.sk-toggleable__label-arrow:before {content: \"▸\";float: left;margin-right: 0.25em;color: #696969;}#sk-container-id-1 label.sk-toggleable__label-arrow:hover:before {color: black;}#sk-container-id-1 div.sk-estimator:hover label.sk-toggleable__label-arrow:before {color: black;}#sk-container-id-1 div.sk-toggleable__content {max-height: 0;max-width: 0;overflow: hidden;text-align: left;background-color: #f0f8ff;}#sk-container-id-1 div.sk-toggleable__content pre {margin: 0.2em;color: black;border-radius: 0.25em;background-color: #f0f8ff;}#sk-container-id-1 input.sk-toggleable__control:checked~div.sk-toggleable__content {max-height: 200px;max-width: 100%;overflow: auto;}#sk-container-id-1 input.sk-toggleable__control:checked~label.sk-toggleable__label-arrow:before {content: \"▾\";}#sk-container-id-1 div.sk-estimator input.sk-toggleable__control:checked~label.sk-toggleable__label {background-color: #d4ebff;}#sk-container-id-1 div.sk-label input.sk-toggleable__control:checked~label.sk-toggleable__label {background-color: #d4ebff;}#sk-container-id-1 input.sk-hidden--visually {border: 0;clip: rect(1px 1px 1px 1px);clip: rect(1px, 1px, 1px, 1px);height: 1px;margin: -1px;overflow: hidden;padding: 0;position: absolute;width: 1px;}#sk-container-id-1 div.sk-estimator {font-family: monospace;background-color: #f0f8ff;border: 1px dotted black;border-radius: 0.25em;box-sizing: border-box;margin-bottom: 0.5em;}#sk-container-id-1 div.sk-estimator:hover {background-color: #d4ebff;}#sk-container-id-1 div.sk-parallel-item::after {content: \"\";width: 100%;border-bottom: 1px solid gray;flex-grow: 1;}#sk-container-id-1 div.sk-label:hover label.sk-toggleable__label {background-color: #d4ebff;}#sk-container-id-1 div.sk-serial::before {content: \"\";position: absolute;border-left: 1px solid gray;box-sizing: border-box;top: 0;bottom: 0;left: 50%;z-index: 0;}#sk-container-id-1 div.sk-serial {display: flex;flex-direction: column;align-items: center;background-color: white;padding-right: 0.2em;padding-left: 0.2em;position: relative;}#sk-container-id-1 div.sk-item {position: relative;z-index: 1;}#sk-container-id-1 div.sk-parallel {display: flex;align-items: stretch;justify-content: center;background-color: white;position: relative;}#sk-container-id-1 div.sk-item::before, #sk-container-id-1 div.sk-parallel-item::before {content: \"\";position: absolute;border-left: 1px solid gray;box-sizing: border-box;top: 0;bottom: 0;left: 50%;z-index: -1;}#sk-container-id-1 div.sk-parallel-item {display: flex;flex-direction: column;z-index: 1;position: relative;background-color: white;}#sk-container-id-1 div.sk-parallel-item:first-child::after {align-self: flex-end;width: 50%;}#sk-container-id-1 div.sk-parallel-item:last-child::after {align-self: flex-start;width: 50%;}#sk-container-id-1 div.sk-parallel-item:only-child::after {width: 0;}#sk-container-id-1 div.sk-dashed-wrapped {border: 1px dashed gray;margin: 0 0.4em 0.5em 0.4em;box-sizing: border-box;padding-bottom: 0.4em;background-color: white;}#sk-container-id-1 div.sk-label label {font-family: monospace;font-weight: bold;display: inline-block;line-height: 1.2em;}#sk-container-id-1 div.sk-label-container {text-align: center;}#sk-container-id-1 div.sk-container {/* jupyter's `normalize.less` sets `[hidden] { display: none; }` but bootstrap.min.css set `[hidden] { display: none !important; }` so we also need the `!important` here to be able to override the default hidden behavior on the sphinx rendered scikit-learn.org. See: https://github.com/scikit-learn/scikit-learn/issues/21755 */display: inline-block !important;position: relative;}#sk-container-id-1 div.sk-text-repr-fallback {display: none;}</style><div id=\"sk-container-id-1\" class=\"sk-top-container\"><div class=\"sk-text-repr-fallback\"><pre>GridSearchCV(estimator=DecisionTreeClassifier(),\n",
       "             param_grid={&#x27;criterion&#x27;: [&#x27;gini&#x27;, &#x27;entropy&#x27;],\n",
       "                         &#x27;max_depth&#x27;: [None, 10, 4, 3, 2],\n",
       "                         &#x27;min_samples_leaf&#x27;: [1, 3, 5, 20]})</pre><b>In a Jupyter environment, please rerun this cell to show the HTML representation or trust the notebook. <br />On GitHub, the HTML representation is unable to render, please try loading this page with nbviewer.org.</b></div><div class=\"sk-container\" hidden><div class=\"sk-item sk-dashed-wrapped\"><div class=\"sk-label-container\"><div class=\"sk-label sk-toggleable\"><input class=\"sk-toggleable__control sk-hidden--visually\" id=\"sk-estimator-id-1\" type=\"checkbox\" ><label for=\"sk-estimator-id-1\" class=\"sk-toggleable__label sk-toggleable__label-arrow\">GridSearchCV</label><div class=\"sk-toggleable__content\"><pre>GridSearchCV(estimator=DecisionTreeClassifier(),\n",
       "             param_grid={&#x27;criterion&#x27;: [&#x27;gini&#x27;, &#x27;entropy&#x27;],\n",
       "                         &#x27;max_depth&#x27;: [None, 10, 4, 3, 2],\n",
       "                         &#x27;min_samples_leaf&#x27;: [1, 3, 5, 20]})</pre></div></div></div><div class=\"sk-parallel\"><div class=\"sk-parallel-item\"><div class=\"sk-item\"><div class=\"sk-label-container\"><div class=\"sk-label sk-toggleable\"><input class=\"sk-toggleable__control sk-hidden--visually\" id=\"sk-estimator-id-2\" type=\"checkbox\" ><label for=\"sk-estimator-id-2\" class=\"sk-toggleable__label sk-toggleable__label-arrow\">estimator: DecisionTreeClassifier</label><div class=\"sk-toggleable__content\"><pre>DecisionTreeClassifier()</pre></div></div></div><div class=\"sk-serial\"><div class=\"sk-item\"><div class=\"sk-estimator sk-toggleable\"><input class=\"sk-toggleable__control sk-hidden--visually\" id=\"sk-estimator-id-3\" type=\"checkbox\" ><label for=\"sk-estimator-id-3\" class=\"sk-toggleable__label sk-toggleable__label-arrow\">DecisionTreeClassifier</label><div class=\"sk-toggleable__content\"><pre>DecisionTreeClassifier()</pre></div></div></div></div></div></div></div></div></div></div>"
      ],
      "text/plain": [
       "GridSearchCV(estimator=DecisionTreeClassifier(),\n",
       "             param_grid={'criterion': ['gini', 'entropy'],\n",
       "                         'max_depth': [None, 10, 4, 3, 2],\n",
       "                         'min_samples_leaf': [1, 3, 5, 20]})"
      ]
     },
     "execution_count": 40,
     "metadata": {},
     "output_type": "execute_result"
    }
   ],
   "source": [
    "gsearch"
   ]
  },
  {
   "cell_type": "code",
   "execution_count": 41,
   "id": "210ccdf0-9aad-41cc-90c2-b4e2312456a0",
   "metadata": {},
   "outputs": [
    {
     "data": {
      "text/html": [
       "<style>#sk-container-id-2 {color: black;background-color: white;}#sk-container-id-2 pre{padding: 0;}#sk-container-id-2 div.sk-toggleable {background-color: white;}#sk-container-id-2 label.sk-toggleable__label {cursor: pointer;display: block;width: 100%;margin-bottom: 0;padding: 0.3em;box-sizing: border-box;text-align: center;}#sk-container-id-2 label.sk-toggleable__label-arrow:before {content: \"▸\";float: left;margin-right: 0.25em;color: #696969;}#sk-container-id-2 label.sk-toggleable__label-arrow:hover:before {color: black;}#sk-container-id-2 div.sk-estimator:hover label.sk-toggleable__label-arrow:before {color: black;}#sk-container-id-2 div.sk-toggleable__content {max-height: 0;max-width: 0;overflow: hidden;text-align: left;background-color: #f0f8ff;}#sk-container-id-2 div.sk-toggleable__content pre {margin: 0.2em;color: black;border-radius: 0.25em;background-color: #f0f8ff;}#sk-container-id-2 input.sk-toggleable__control:checked~div.sk-toggleable__content {max-height: 200px;max-width: 100%;overflow: auto;}#sk-container-id-2 input.sk-toggleable__control:checked~label.sk-toggleable__label-arrow:before {content: \"▾\";}#sk-container-id-2 div.sk-estimator input.sk-toggleable__control:checked~label.sk-toggleable__label {background-color: #d4ebff;}#sk-container-id-2 div.sk-label input.sk-toggleable__control:checked~label.sk-toggleable__label {background-color: #d4ebff;}#sk-container-id-2 input.sk-hidden--visually {border: 0;clip: rect(1px 1px 1px 1px);clip: rect(1px, 1px, 1px, 1px);height: 1px;margin: -1px;overflow: hidden;padding: 0;position: absolute;width: 1px;}#sk-container-id-2 div.sk-estimator {font-family: monospace;background-color: #f0f8ff;border: 1px dotted black;border-radius: 0.25em;box-sizing: border-box;margin-bottom: 0.5em;}#sk-container-id-2 div.sk-estimator:hover {background-color: #d4ebff;}#sk-container-id-2 div.sk-parallel-item::after {content: \"\";width: 100%;border-bottom: 1px solid gray;flex-grow: 1;}#sk-container-id-2 div.sk-label:hover label.sk-toggleable__label {background-color: #d4ebff;}#sk-container-id-2 div.sk-serial::before {content: \"\";position: absolute;border-left: 1px solid gray;box-sizing: border-box;top: 0;bottom: 0;left: 50%;z-index: 0;}#sk-container-id-2 div.sk-serial {display: flex;flex-direction: column;align-items: center;background-color: white;padding-right: 0.2em;padding-left: 0.2em;position: relative;}#sk-container-id-2 div.sk-item {position: relative;z-index: 1;}#sk-container-id-2 div.sk-parallel {display: flex;align-items: stretch;justify-content: center;background-color: white;position: relative;}#sk-container-id-2 div.sk-item::before, #sk-container-id-2 div.sk-parallel-item::before {content: \"\";position: absolute;border-left: 1px solid gray;box-sizing: border-box;top: 0;bottom: 0;left: 50%;z-index: -1;}#sk-container-id-2 div.sk-parallel-item {display: flex;flex-direction: column;z-index: 1;position: relative;background-color: white;}#sk-container-id-2 div.sk-parallel-item:first-child::after {align-self: flex-end;width: 50%;}#sk-container-id-2 div.sk-parallel-item:last-child::after {align-self: flex-start;width: 50%;}#sk-container-id-2 div.sk-parallel-item:only-child::after {width: 0;}#sk-container-id-2 div.sk-dashed-wrapped {border: 1px dashed gray;margin: 0 0.4em 0.5em 0.4em;box-sizing: border-box;padding-bottom: 0.4em;background-color: white;}#sk-container-id-2 div.sk-label label {font-family: monospace;font-weight: bold;display: inline-block;line-height: 1.2em;}#sk-container-id-2 div.sk-label-container {text-align: center;}#sk-container-id-2 div.sk-container {/* jupyter's `normalize.less` sets `[hidden] { display: none; }` but bootstrap.min.css set `[hidden] { display: none !important; }` so we also need the `!important` here to be able to override the default hidden behavior on the sphinx rendered scikit-learn.org. See: https://github.com/scikit-learn/scikit-learn/issues/21755 */display: inline-block !important;position: relative;}#sk-container-id-2 div.sk-text-repr-fallback {display: none;}</style><div id=\"sk-container-id-2\" class=\"sk-top-container\"><div class=\"sk-text-repr-fallback\"><pre>GridSearchCV(estimator=DecisionTreeClassifier(),\n",
       "             param_grid={&#x27;criterion&#x27;: [&#x27;gini&#x27;, &#x27;entropy&#x27;],\n",
       "                         &#x27;max_depth&#x27;: [None, 10, 4, 3, 2],\n",
       "                         &#x27;min_samples_leaf&#x27;: [1, 3, 5, 20]})</pre><b>In a Jupyter environment, please rerun this cell to show the HTML representation or trust the notebook. <br />On GitHub, the HTML representation is unable to render, please try loading this page with nbviewer.org.</b></div><div class=\"sk-container\" hidden><div class=\"sk-item sk-dashed-wrapped\"><div class=\"sk-label-container\"><div class=\"sk-label sk-toggleable\"><input class=\"sk-toggleable__control sk-hidden--visually\" id=\"sk-estimator-id-4\" type=\"checkbox\" ><label for=\"sk-estimator-id-4\" class=\"sk-toggleable__label sk-toggleable__label-arrow\">GridSearchCV</label><div class=\"sk-toggleable__content\"><pre>GridSearchCV(estimator=DecisionTreeClassifier(),\n",
       "             param_grid={&#x27;criterion&#x27;: [&#x27;gini&#x27;, &#x27;entropy&#x27;],\n",
       "                         &#x27;max_depth&#x27;: [None, 10, 4, 3, 2],\n",
       "                         &#x27;min_samples_leaf&#x27;: [1, 3, 5, 20]})</pre></div></div></div><div class=\"sk-parallel\"><div class=\"sk-parallel-item\"><div class=\"sk-item\"><div class=\"sk-label-container\"><div class=\"sk-label sk-toggleable\"><input class=\"sk-toggleable__control sk-hidden--visually\" id=\"sk-estimator-id-5\" type=\"checkbox\" ><label for=\"sk-estimator-id-5\" class=\"sk-toggleable__label sk-toggleable__label-arrow\">estimator: DecisionTreeClassifier</label><div class=\"sk-toggleable__content\"><pre>DecisionTreeClassifier()</pre></div></div></div><div class=\"sk-serial\"><div class=\"sk-item\"><div class=\"sk-estimator sk-toggleable\"><input class=\"sk-toggleable__control sk-hidden--visually\" id=\"sk-estimator-id-6\" type=\"checkbox\" ><label for=\"sk-estimator-id-6\" class=\"sk-toggleable__label sk-toggleable__label-arrow\">DecisionTreeClassifier</label><div class=\"sk-toggleable__content\"><pre>DecisionTreeClassifier()</pre></div></div></div></div></div></div></div></div></div></div>"
      ],
      "text/plain": [
       "GridSearchCV(estimator=DecisionTreeClassifier(),\n",
       "             param_grid={'criterion': ['gini', 'entropy'],\n",
       "                         'max_depth': [None, 10, 4, 3, 2],\n",
       "                         'min_samples_leaf': [1, 3, 5, 20]})"
      ]
     },
     "execution_count": 41,
     "metadata": {},
     "output_type": "execute_result"
    }
   ],
   "source": [
    "gsearch.fit(X_train, y_train)"
   ]
  },
  {
   "cell_type": "code",
   "execution_count": 44,
   "id": "1d882e0e-ca08-41cd-85a1-e2c8edc9f239",
   "metadata": {},
   "outputs": [],
   "source": [
    "results = gsearch.cv_results_"
   ]
  },
  {
   "cell_type": "code",
   "execution_count": 45,
   "id": "df00a255-3965-461d-afb2-f5a833407bfd",
   "metadata": {},
   "outputs": [
    {
     "data": {
      "text/plain": [
       "dict_keys(['mean_fit_time', 'std_fit_time', 'mean_score_time', 'std_score_time', 'param_criterion', 'param_max_depth', 'param_min_samples_leaf', 'params', 'split0_test_score', 'split1_test_score', 'split2_test_score', 'split3_test_score', 'split4_test_score', 'mean_test_score', 'std_test_score', 'rank_test_score'])"
      ]
     },
     "execution_count": 45,
     "metadata": {},
     "output_type": "execute_result"
    }
   ],
   "source": [
    "results.keys()"
   ]
  },
  {
   "cell_type": "code",
   "execution_count": 47,
   "id": "b3968cee-ea62-4b2e-90c8-3db728e3624b",
   "metadata": {},
   "outputs": [],
   "source": [
    "results_df_init = pd.DataFrame(results)"
   ]
  },
  {
   "cell_type": "code",
   "execution_count": 49,
   "id": "99a4f554-fec5-4fd9-b8d3-be35100af6b2",
   "metadata": {},
   "outputs": [
    {
     "data": {
      "text/plain": [
       "(40, 16)"
      ]
     },
     "execution_count": 49,
     "metadata": {},
     "output_type": "execute_result"
    }
   ],
   "source": [
    "results_df_init.shape"
   ]
  },
  {
   "cell_type": "code",
   "execution_count": 52,
   "id": "7b9dabb3-8578-4367-a832-e1932a84584c",
   "metadata": {},
   "outputs": [],
   "source": [
    "params = pd.DataFrame(results['params'])"
   ]
  },
  {
   "cell_type": "code",
   "execution_count": 55,
   "id": "bb308ed3-4e9c-4769-9e67-2c93012e43a8",
   "metadata": {},
   "outputs": [
    {
     "data": {
      "text/html": [
       "<div>\n",
       "<style scoped>\n",
       "    .dataframe tbody tr th:only-of-type {\n",
       "        vertical-align: middle;\n",
       "    }\n",
       "\n",
       "    .dataframe tbody tr th {\n",
       "        vertical-align: top;\n",
       "    }\n",
       "\n",
       "    .dataframe thead th {\n",
       "        text-align: right;\n",
       "    }\n",
       "</style>\n",
       "<table border=\"1\" class=\"dataframe\">\n",
       "  <thead>\n",
       "    <tr style=\"text-align: right;\">\n",
       "      <th></th>\n",
       "      <th>criterion</th>\n",
       "      <th>max_depth</th>\n",
       "      <th>min_samples_leaf</th>\n",
       "    </tr>\n",
       "  </thead>\n",
       "  <tbody>\n",
       "    <tr>\n",
       "      <th>0</th>\n",
       "      <td>gini</td>\n",
       "      <td>NaN</td>\n",
       "      <td>1</td>\n",
       "    </tr>\n",
       "    <tr>\n",
       "      <th>1</th>\n",
       "      <td>gini</td>\n",
       "      <td>NaN</td>\n",
       "      <td>3</td>\n",
       "    </tr>\n",
       "  </tbody>\n",
       "</table>\n",
       "</div>"
      ],
      "text/plain": [
       "  criterion  max_depth  min_samples_leaf\n",
       "0      gini        NaN                 1\n",
       "1      gini        NaN                 3"
      ]
     },
     "execution_count": 55,
     "metadata": {},
     "output_type": "execute_result"
    }
   ],
   "source": [
    "params.head(2)"
   ]
  },
  {
   "cell_type": "code",
   "execution_count": 57,
   "id": "b9de63ad-0300-45a7-ab5e-dae5b7c9a9fb",
   "metadata": {},
   "outputs": [
    {
     "data": {
      "text/html": [
       "<div>\n",
       "<style scoped>\n",
       "    .dataframe tbody tr th:only-of-type {\n",
       "        vertical-align: middle;\n",
       "    }\n",
       "\n",
       "    .dataframe tbody tr th {\n",
       "        vertical-align: top;\n",
       "    }\n",
       "\n",
       "    .dataframe thead th {\n",
       "        text-align: right;\n",
       "    }\n",
       "</style>\n",
       "<table border=\"1\" class=\"dataframe\">\n",
       "  <thead>\n",
       "    <tr style=\"text-align: right;\">\n",
       "      <th></th>\n",
       "      <th>mean_fit_time</th>\n",
       "      <th>std_fit_time</th>\n",
       "      <th>mean_score_time</th>\n",
       "      <th>std_score_time</th>\n",
       "      <th>param_criterion</th>\n",
       "      <th>param_max_depth</th>\n",
       "      <th>param_min_samples_leaf</th>\n",
       "      <th>params</th>\n",
       "      <th>split0_test_score</th>\n",
       "      <th>split1_test_score</th>\n",
       "      <th>split2_test_score</th>\n",
       "      <th>split3_test_score</th>\n",
       "      <th>split4_test_score</th>\n",
       "      <th>mean_test_score</th>\n",
       "      <th>std_test_score</th>\n",
       "      <th>rank_test_score</th>\n",
       "    </tr>\n",
       "  </thead>\n",
       "  <tbody>\n",
       "    <tr>\n",
       "      <th>0</th>\n",
       "      <td>0.589163</td>\n",
       "      <td>0.011214</td>\n",
       "      <td>0.013424</td>\n",
       "      <td>0.000782</td>\n",
       "      <td>gini</td>\n",
       "      <td>None</td>\n",
       "      <td>1</td>\n",
       "      <td>{'criterion': 'gini', 'max_depth': None, 'min_...</td>\n",
       "      <td>0.616671</td>\n",
       "      <td>0.615643</td>\n",
       "      <td>0.612852</td>\n",
       "      <td>0.617447</td>\n",
       "      <td>0.617859</td>\n",
       "      <td>0.616094</td>\n",
       "      <td>0.001788</td>\n",
       "      <td>32</td>\n",
       "    </tr>\n",
       "    <tr>\n",
       "      <th>1</th>\n",
       "      <td>0.554305</td>\n",
       "      <td>0.003057</td>\n",
       "      <td>0.011770</td>\n",
       "      <td>0.000326</td>\n",
       "      <td>gini</td>\n",
       "      <td>None</td>\n",
       "      <td>3</td>\n",
       "      <td>{'criterion': 'gini', 'max_depth': None, 'min_...</td>\n",
       "      <td>0.622692</td>\n",
       "      <td>0.622273</td>\n",
       "      <td>0.621433</td>\n",
       "      <td>0.623636</td>\n",
       "      <td>0.623419</td>\n",
       "      <td>0.622691</td>\n",
       "      <td>0.000797</td>\n",
       "      <td>29</td>\n",
       "    </tr>\n",
       "  </tbody>\n",
       "</table>\n",
       "</div>"
      ],
      "text/plain": [
       "   mean_fit_time  std_fit_time  mean_score_time  std_score_time   \n",
       "0       0.589163      0.011214         0.013424        0.000782  \\\n",
       "1       0.554305      0.003057         0.011770        0.000326   \n",
       "\n",
       "  param_criterion param_max_depth param_min_samples_leaf   \n",
       "0            gini            None                      1  \\\n",
       "1            gini            None                      3   \n",
       "\n",
       "                                              params  split0_test_score   \n",
       "0  {'criterion': 'gini', 'max_depth': None, 'min_...           0.616671  \\\n",
       "1  {'criterion': 'gini', 'max_depth': None, 'min_...           0.622692   \n",
       "\n",
       "   split1_test_score  split2_test_score  split3_test_score  split4_test_score   \n",
       "0           0.615643           0.612852           0.617447           0.617859  \\\n",
       "1           0.622273           0.621433           0.623636           0.623419   \n",
       "\n",
       "   mean_test_score  std_test_score  rank_test_score  \n",
       "0         0.616094        0.001788               32  \n",
       "1         0.622691        0.000797               29  "
      ]
     },
     "execution_count": 57,
     "metadata": {},
     "output_type": "execute_result"
    }
   ],
   "source": [
    "results_df_init.head(2)"
   ]
  },
  {
   "cell_type": "code",
   "execution_count": 60,
   "id": "dc6ba41f-f37b-48cc-a4b8-64d5fc1b327b",
   "metadata": {},
   "outputs": [],
   "source": [
    "splits = [col for col in results.keys() if 'split' in col]"
   ]
  },
  {
   "cell_type": "code",
   "execution_count": 63,
   "id": "8c3370fe-57ee-4238-8c4a-bcb22f217d5c",
   "metadata": {},
   "outputs": [],
   "source": [
    "chopped = pd.concat([params, results_df_init[splits]],axis=1)"
   ]
  },
  {
   "cell_type": "code",
   "execution_count": 70,
   "id": "2459e76a-3f92-4876-8205-61bf32f64007",
   "metadata": {},
   "outputs": [],
   "source": [
    "# make a new column that says what algorithm was used:\n",
    "chopped['model_type'] = 'decision_tree'"
   ]
  },
  {
   "cell_type": "code",
   "execution_count": 72,
   "id": "89d98de7-8190-4064-9f61-2b338ca5e30c",
   "metadata": {},
   "outputs": [
    {
     "data": {
      "text/html": [
       "<div>\n",
       "<style scoped>\n",
       "    .dataframe tbody tr th:only-of-type {\n",
       "        vertical-align: middle;\n",
       "    }\n",
       "\n",
       "    .dataframe tbody tr th {\n",
       "        vertical-align: top;\n",
       "    }\n",
       "\n",
       "    .dataframe thead th {\n",
       "        text-align: right;\n",
       "    }\n",
       "</style>\n",
       "<table border=\"1\" class=\"dataframe\">\n",
       "  <thead>\n",
       "    <tr style=\"text-align: right;\">\n",
       "      <th></th>\n",
       "      <th>criterion</th>\n",
       "      <th>max_depth</th>\n",
       "      <th>min_samples_leaf</th>\n",
       "      <th>split0_test_score</th>\n",
       "      <th>split1_test_score</th>\n",
       "      <th>split2_test_score</th>\n",
       "      <th>split3_test_score</th>\n",
       "      <th>split4_test_score</th>\n",
       "      <th>model_type</th>\n",
       "    </tr>\n",
       "  </thead>\n",
       "  <tbody>\n",
       "    <tr>\n",
       "      <th>0</th>\n",
       "      <td>gini</td>\n",
       "      <td>NaN</td>\n",
       "      <td>1</td>\n",
       "      <td>0.616671</td>\n",
       "      <td>0.615643</td>\n",
       "      <td>0.612852</td>\n",
       "      <td>0.617447</td>\n",
       "      <td>0.617859</td>\n",
       "      <td>decision_tree</td>\n",
       "    </tr>\n",
       "    <tr>\n",
       "      <th>1</th>\n",
       "      <td>gini</td>\n",
       "      <td>NaN</td>\n",
       "      <td>3</td>\n",
       "      <td>0.622692</td>\n",
       "      <td>0.622273</td>\n",
       "      <td>0.621433</td>\n",
       "      <td>0.623636</td>\n",
       "      <td>0.623419</td>\n",
       "      <td>decision_tree</td>\n",
       "    </tr>\n",
       "    <tr>\n",
       "      <th>2</th>\n",
       "      <td>gini</td>\n",
       "      <td>NaN</td>\n",
       "      <td>5</td>\n",
       "      <td>0.632133</td>\n",
       "      <td>0.630707</td>\n",
       "      <td>0.630958</td>\n",
       "      <td>0.632972</td>\n",
       "      <td>0.633342</td>\n",
       "      <td>decision_tree</td>\n",
       "    </tr>\n",
       "    <tr>\n",
       "      <th>3</th>\n",
       "      <td>gini</td>\n",
       "      <td>NaN</td>\n",
       "      <td>20</td>\n",
       "      <td>0.660184</td>\n",
       "      <td>0.660960</td>\n",
       "      <td>0.661023</td>\n",
       "      <td>0.660519</td>\n",
       "      <td>0.660743</td>\n",
       "      <td>decision_tree</td>\n",
       "    </tr>\n",
       "    <tr>\n",
       "      <th>4</th>\n",
       "      <td>gini</td>\n",
       "      <td>10.0</td>\n",
       "      <td>1</td>\n",
       "      <td>0.674010</td>\n",
       "      <td>0.675730</td>\n",
       "      <td>0.674136</td>\n",
       "      <td>0.673863</td>\n",
       "      <td>0.675094</td>\n",
       "      <td>decision_tree</td>\n",
       "    </tr>\n",
       "  </tbody>\n",
       "</table>\n",
       "</div>"
      ],
      "text/plain": [
       "  criterion  max_depth  min_samples_leaf  split0_test_score   \n",
       "0      gini        NaN                 1           0.616671  \\\n",
       "1      gini        NaN                 3           0.622692   \n",
       "2      gini        NaN                 5           0.632133   \n",
       "3      gini        NaN                20           0.660184   \n",
       "4      gini       10.0                 1           0.674010   \n",
       "\n",
       "   split1_test_score  split2_test_score  split3_test_score  split4_test_score   \n",
       "0           0.615643           0.612852           0.617447           0.617859  \\\n",
       "1           0.622273           0.621433           0.623636           0.623419   \n",
       "2           0.630707           0.630958           0.632972           0.633342   \n",
       "3           0.660960           0.661023           0.660519           0.660743   \n",
       "4           0.675730           0.674136           0.673863           0.675094   \n",
       "\n",
       "      model_type  \n",
       "0  decision_tree  \n",
       "1  decision_tree  \n",
       "2  decision_tree  \n",
       "3  decision_tree  \n",
       "4  decision_tree  "
      ]
     },
     "execution_count": 72,
     "metadata": {},
     "output_type": "execute_result"
    }
   ],
   "source": [
    "chopped.head(5)"
   ]
  },
  {
   "cell_type": "code",
   "execution_count": 73,
   "id": "15dfef24-afcf-44fa-8394-ea186676ac0c",
   "metadata": {},
   "outputs": [],
   "source": [
    "# concatenate any new model types onto \n",
    "# this dataframe and  (or a dataframe with congruent hyperparameter columns *****)\n",
    "# and sort to begin to \n",
    "# select which model works best \n",
    "# for your use case!"
   ]
  },
  {
   "cell_type": "markdown",
   "id": "3d417821-da45-4491-a5b8-a7be0be5adcd",
   "metadata": {},
   "source": [
    "Conclusion: automation is nice!\n",
    " - Make sure you know what you're talkin' about, though :)"
   ]
  },
  {
   "cell_type": "code",
   "execution_count": null,
   "id": "ae64675e-b904-4d6d-ad4f-506e129762c8",
   "metadata": {},
   "outputs": [],
   "source": []
  }
 ],
 "metadata": {
  "kernelspec": {
   "display_name": "Python 3 (ipykernel)",
   "language": "python",
   "name": "python3"
  },
  "language_info": {
   "codemirror_mode": {
    "name": "ipython",
    "version": 3
   },
   "file_extension": ".py",
   "mimetype": "text/x-python",
   "name": "python",
   "nbconvert_exporter": "python",
   "pygments_lexer": "ipython3",
   "version": "3.11.2"
  }
 },
 "nbformat": 4,
 "nbformat_minor": 5
}
